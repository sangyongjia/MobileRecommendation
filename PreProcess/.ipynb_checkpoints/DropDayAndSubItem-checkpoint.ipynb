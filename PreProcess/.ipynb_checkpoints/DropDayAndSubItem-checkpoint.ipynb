{
 "cells": [
  {
   "cell_type": "code",
   "execution_count": 9,
   "metadata": {},
   "outputs": [],
   "source": [
    "import pandas as pd\n",
    "import numpy as np\n",
    "\n",
    "if __name__ == '__main__':\n",
    "    user_table = pd.read_csv('../DataSet/tianchi_fresh_comp_train_user.csv')\n",
    "    item_table = pd.read_csv('../DataSet/tianchi_fresh_comp_train_item.csv')\n",
    "    user_table = user_table[user_table.item_id.isin(list(item_table.item_id))]\n",
    "    \n",
    "    user_table['days'] = user_table['time'].map(lambda x:x.split(' ')[0])\n",
    "    user_table['hours'] = user_table['time'].map(lambda x:x.split(' ')[1])\n",
    "    #user_table = user_table[user_table['days'] != '2014-12-12'] #双十二前一天大家已经开始囤货，双十二当天可能受促销影响严重。但这是猜测，需要数据说话。\n",
    "    #user_table = user_table[user_table['days'] != '2014-12-11']\n",
    "    #user_table.to_csv('../DataSet/drop1112_sub_item.csv',index=None)\n",
    "    user_table.to_csv('../DataSet/drop_null_sub_item.csv',index=None)"
   ]
  },
  {
   "cell_type": "code",
   "execution_count": 12,
   "metadata": {},
   "outputs": [
    {
     "name": "stdout",
     "output_type": "stream",
     "text": [
      "<class 'pandas.core.frame.DataFrame'>\n",
      "\n",
      "\n",
      "15123688\n"
     ]
    },
    {
     "data": {
      "text/html": [
       "<div>\n",
       "<style scoped>\n",
       "    .dataframe tbody tr th:only-of-type {\n",
       "        vertical-align: middle;\n",
       "    }\n",
       "\n",
       "    .dataframe tbody tr th {\n",
       "        vertical-align: top;\n",
       "    }\n",
       "\n",
       "    .dataframe thead th {\n",
       "        text-align: right;\n",
       "    }\n",
       "</style>\n",
       "<table border=\"1\" class=\"dataframe\">\n",
       "  <thead>\n",
       "    <tr style=\"text-align: right;\">\n",
       "      <th></th>\n",
       "      <th>user_id</th>\n",
       "      <th>item_id</th>\n",
       "      <th>behavior_type</th>\n",
       "      <th>user_geohash</th>\n",
       "      <th>item_category</th>\n",
       "      <th>time</th>\n",
       "      <th>days</th>\n",
       "      <th>hours</th>\n",
       "    </tr>\n",
       "  </thead>\n",
       "  <tbody>\n",
       "    <tr>\n",
       "      <th>13</th>\n",
       "      <td>10001082</td>\n",
       "      <td>275221686</td>\n",
       "      <td>1</td>\n",
       "      <td>NaN</td>\n",
       "      <td>10576</td>\n",
       "      <td>2014-12-03 01</td>\n",
       "      <td>2014-12-03</td>\n",
       "      <td>01</td>\n",
       "    </tr>\n",
       "    <tr>\n",
       "      <th>14</th>\n",
       "      <td>10001082</td>\n",
       "      <td>97441652</td>\n",
       "      <td>1</td>\n",
       "      <td>NaN</td>\n",
       "      <td>10576</td>\n",
       "      <td>2014-11-20 21</td>\n",
       "      <td>2014-11-20</td>\n",
       "      <td>21</td>\n",
       "    </tr>\n",
       "    <tr>\n",
       "      <th>15</th>\n",
       "      <td>10001082</td>\n",
       "      <td>275221686</td>\n",
       "      <td>1</td>\n",
       "      <td>NaN</td>\n",
       "      <td>10576</td>\n",
       "      <td>2014-12-13 14</td>\n",
       "      <td>2014-12-13</td>\n",
       "      <td>14</td>\n",
       "    </tr>\n",
       "    <tr>\n",
       "      <th>16</th>\n",
       "      <td>10001082</td>\n",
       "      <td>275221686</td>\n",
       "      <td>1</td>\n",
       "      <td>NaN</td>\n",
       "      <td>10576</td>\n",
       "      <td>2014-12-08 07</td>\n",
       "      <td>2014-12-08</td>\n",
       "      <td>07</td>\n",
       "    </tr>\n",
       "    <tr>\n",
       "      <th>24</th>\n",
       "      <td>10001082</td>\n",
       "      <td>125083630</td>\n",
       "      <td>1</td>\n",
       "      <td>NaN</td>\n",
       "      <td>4722</td>\n",
       "      <td>2014-12-14 03</td>\n",
       "      <td>2014-12-14</td>\n",
       "      <td>03</td>\n",
       "    </tr>\n",
       "  </tbody>\n",
       "</table>\n",
       "</div>"
      ],
      "text/plain": [
       "     user_id    item_id  behavior_type user_geohash  item_category  \\\n",
       "13  10001082  275221686              1          NaN          10576   \n",
       "14  10001082   97441652              1          NaN          10576   \n",
       "15  10001082  275221686              1          NaN          10576   \n",
       "16  10001082  275221686              1          NaN          10576   \n",
       "24  10001082  125083630              1          NaN           4722   \n",
       "\n",
       "             time        days hours  \n",
       "13  2014-12-03 01  2014-12-03    01  \n",
       "14  2014-11-20 21  2014-11-20    21  \n",
       "15  2014-12-13 14  2014-12-13    14  \n",
       "16  2014-12-08 07  2014-12-08    07  \n",
       "24  2014-12-14 03  2014-12-14    03  "
      ]
     },
     "execution_count": 12,
     "metadata": {},
     "output_type": "execute_result"
    }
   ],
   "source": [
    "#item_table.item_id\n",
    "print(type(user_table))\n",
    "print('\\n')\n",
    "print(user_table.size)\n",
    "user_table.head(5)\n"
   ]
  },
  {
   "cell_type": "code",
   "execution_count": 14,
   "metadata": {},
   "outputs": [
    {
     "data": {
      "text/plain": [
       "'1'"
      ]
     },
     "execution_count": 14,
     "metadata": {},
     "output_type": "execute_result"
    }
   ],
   "source": [
    "i=1234\n",
    "str(1)"
   ]
  },
  {
   "cell_type": "code",
   "execution_count": null,
   "metadata": {},
   "outputs": [],
   "source": []
  }
 ],
 "metadata": {
  "kernelspec": {
   "display_name": "Python 3",
   "language": "python",
   "name": "python3"
  },
  "language_info": {
   "codemirror_mode": {
    "name": "ipython",
    "version": 3
   },
   "file_extension": ".py",
   "mimetype": "text/x-python",
   "name": "python",
   "nbconvert_exporter": "python",
   "pygments_lexer": "ipython3",
   "version": "3.7.1"
  }
 },
 "nbformat": 4,
 "nbformat_minor": 2
}
