{
 "cells": [
  {
   "cell_type": "code",
   "execution_count": null,
   "metadata": {},
   "outputs": [],
   "source": [
    "import pandas as pd\n",
    "import numpy as np\n",
    "#The new version was very useful \n",
    "if __name__ == '__main__':\n",
    "    user_table = pd.read_csv('../DataSet/tianchi_fresh_comp_train_user.csv')\n",
    "    item_table = pd.read_csv('../DataSet/tianchi_fresh_comp_train_item.csv')\n",
    "    user_table = user_table[user_table.item_id.isin(list(item_table.item_id))]\n",
    "    \n",
    "    user_table['days'] = user_table['time'].map(lambda x:x.split(' ')[0])\n",
    "    user_table['hours'] = user_table['time'].map(lambda x:x.split(' ')[1])\n",
    "    #user_table = user_table[user_table['days'] != '2014-12-12'] #双十二前一天大家已经开始囤货，双十二当天可能受促销影响严重。但这是猜测，需要数据说话。\n",
    "    #user_table = user_table[user_table['days'] != '2014-12-11']\n",
    "    #user_table.to_csv('../DataSet/drop1112_sub_item.csv',index=None)\n",
    "    user_table.to_csv('../DataSet/drop_null_sub_item.csv',index=None)\n",
    "    "
   ]
  },
  {
   "cell_type": "code",
   "execution_count": null,
   "metadata": {},
   "outputs": [],
   "source": []
  }
 ],
 "metadata": {
  "kernelspec": {
   "display_name": "Python 3",
   "language": "python",
   "name": "python3"
  },
  "language_info": {
   "codemirror_mode": {
    "name": "ipython",
    "version": 3
   },
   "file_extension": ".py",
   "mimetype": "text/x-python",
   "name": "python",
   "nbconvert_exporter": "python",
   "pygments_lexer": "ipython3",
   "version": "3.7.1"
  }
 },
 "nbformat": 4,
 "nbformat_minor": 2
}
