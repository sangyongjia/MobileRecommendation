{
 "cells": [
  {
   "cell_type": "code",
   "execution_count": 20,
   "metadata": {},
   "outputs": [],
   "source": [
    "from sklearn.ensemble import GradientBoostingClassifier\n",
    "from sklearn import preprocessing\n",
    "import pandas as pd\n",
    "import numpy as np\n",
    "from sklearn import metrics\n",
    "import matplotlib.pyplot as plt\n",
    "import seaborn as sns\n",
    "import time"
   ]
  },
  {
   "cell_type": "code",
   "execution_count": 17,
   "metadata": {},
   "outputs": [
    {
     "data": {
      "text/plain": [
       "Index(['27', '0', '0.1', '3', '30', '0.1.1', '3.0', '27.1', '0.2', '0.3',\n",
       "       ...\n",
       "       '0.14', '1.7', '6.2', '2.5', '1.8', '57.0.2', '0.0.6', '0.0.7', '0.0.8',\n",
       "       '7'],\n",
       "      dtype='object', length=112)"
      ]
     },
     "execution_count": 17,
     "metadata": {},
     "output_type": "execute_result"
    }
   ],
   "source": [
    "data_filename = \"../DataSet/Kmeans/\"+\"part_data_uiclfc\"+\".csv\"\n",
    "data_set_uiclfc = pd.read_csv(data_filename)\n",
    "data_set_uiclfc.columns"
   ]
  },
  {
   "cell_type": "code",
   "execution_count": 21,
   "metadata": {},
   "outputs": [],
   "source": [
    "def valid_train_set_construct(valid_ratio = 0.1, train_np_ratio = 50):\n",
    "    '''\n",
    "    # generation of train set\n",
    "    @param valid_ratio: float ~ [0~1], the valid set ratio in total set and the rest is train set\n",
    "    @param valid_sub_ratio: float ~ (0~1), random sample ratio of valid set\n",
    "    @param train_np_ratio:(1~1200), the sub-sample ratio of training set for N/P balanced.\n",
    "    @param train_sub_ratio: float ~ (0~1), random sample ratio of train set after N/P subsample\n",
    "    \n",
    "    @return valid_X, valid_y, train_X, train_y\n",
    "    '''\n",
    "    #train_data_filename = \"../DataSet/\"+\"part_data_uiclfk2014-12-18\"+\".csv\"\n",
    "    data_filename = \"../DataSet/Kmeans/\"+\"part_data_uiclfc\"+\".csv\"\n",
    "\n",
    "    data_set_uiclfc = pd.read_csv(data_filename,index_col = False, names=[\n",
    "        'u_b1_count_x','u_b2_count_x','u_b3_count_x','u_b4_count_x','u_b_count_x','u_b4_rate_x','u_b4_diff_hours_x',\n",
    "        'u_b1_count_y','u_b2_count_y','u_b3_count_y','u_b4_count_y','u_b_count_y','u_b4_rate_y','u_b4_diff_hours_y',\n",
    "        'u_b1_count','u_b2_count','u_b3_count','u_b4_count','u_b_count','u_b4_rate','u_b4_diff_hours',\n",
    "        'i_b1_count_x','i_b2_count_x','i_b3_count_x','i_b4_count_x','i_b_count_x','i_b4_rate_x','i_user_num_x','i_b4_diff_hours_x',\n",
    "        'i_b1_count_y','i_b2_count_y','i_b3_count_y','i_b4_count_y','i_b_count_y','i_b4_rate_y','i_user_num_y','i_b4_diff_hours_y',\n",
    "        'i_b1_count','i_b2_count','i_b3_count','i_b4_count','i_b_count','i_b4_rate','i_user_num','i_b4_diff_hours',\n",
    "        'c_b1_count_x','c_b2_count_x','c_b3_count_x','c_b4_count_x','c_b_count_x','c_b4_rate_x','c_user_num_x','c_b4_diff_hours_x',\n",
    "        'c_b1_count_y','c_b2_count_y','c_b3_count_y','c_b4_count_y','c_b_count_y','c_b4_rate_y','c_user_num_y','c_b4_diff_hours_y',                                                                              \n",
    "        'c_b1_count','c_b2_count','c_b3_count','c_b4_count','c_b_count','c_b4_rate','c_user_num','c_b4_diff_hours',\n",
    "        'ic_u_rank_in_c_x','ic_b_rank_in_c_x','ic_b4_rank_in_c_x',\n",
    "        'ic_u_rank_in_c_y','ic_b_rank_in_c_y','ic_b4_rank_in_c_y',\n",
    "        'ic_u_rank_in_c','ic_b_rank_in_c','ic_b4_rank_in_c',\n",
    "        'ui_b1_count_x','ui_b2_count_x','ui_b3_count_x','ui_b4_count_x','ui_b_count_x','ui_b_count_rank_in_u_x','ui_b_count_rank_in_uc_x',\n",
    "        'ui_b1_last_hours_x','ui_b2_last_hours_x','ui_b3_last_hours_x','ui_b4_last_hours_x',\n",
    "        'ui_b1_count_y','ui_b2_count_y','ui_b3_count_y','ui_b4_count_y','ui_b_count_y','ui_b_count_rank_in_u_y','ui_b_count_rank_in_uc_y',\n",
    "        'ui_b1_last_hours_y','ui_b2_last_hours_y','ui_b3_last_hours_y','ui_b4_last_hours_y',\n",
    "        'ui_b1_count','ui_b2_count','ui_b3_count','ui_b4_count','ui_b_count','ui_b_count_rank_in_u','ui_b_count_rank_in_uc',\n",
    "        'ui_b1_last_hours','ui_b2_last_hours','ui_b3_last_hours','ui_b4_last_hours',\n",
    "        'uc_b1_count_x','uc_b2_count_x','uc_b3_count_x','uc_b4_count_x','uc_b_count_x','uc_b_count_rank_in_u_x','uc_b1_last_hours_x','uc_b2_last_hours_x','uc_b3_last_hours_x','uc_b4_last_hours_x',\n",
    "        'uc_b1_count_y','uc_b2_count_y','uc_b3_count_y','uc_b4_count_y','uc_b_count_y','uc_b_count_rank_in_u_y','uc_b1_last_hours_y','uc_b2_last_hours_y','uc_b3_last_hours_x','uc_b4_last_hours_y',\n",
    "        'uc_b1_count','uc_b2_count','uc_b3_count','uc_b4_count','uc_b_count','uc_b_count_rank_in_u','uc_b1_last_hours','uc_b2_last_hours','uc_b3_last_hours','uc_b4_last_hours', \n",
    "        'class'])  \n",
    "    msk = np.random.rand(len(data_set_uiclfc)) <= valid_ratio\n",
    "        \n",
    "    valid_data_set_uiclfc = data_set_uiclfc.loc[msk]\n",
    "    train_data_set_uiclfc = data_set_uiclfc.loc[~msk]\n",
    "    \n",
    "    train_data_set_uiclfc_label_1 = train_data_set_uiclfc[train_data_set_uiclfc['class'] == 0]\n",
    "    train_data_set_uiclfc_np = train_data_set_uiclfc_label_1\n",
    "    for i in range(1,1001,1):\n",
    "        train_data_set_uiclfc_label_0_i = train_data_set_uiclfc[train_data_set_uiclfc['class'] == i]\n",
    "        if len(train_data_set_uiclfc_label_0_i) != 0:\n",
    "            train_data_set_uiclfc_label_0_i = train_data_set_uiclfc_label_0_i.sample(frac = train_np_ratio/1200)\n",
    "            train_data_set_uiclfc_np     = pd.concat([train_data_set_uiclfc_np, train_data_set_uiclfc_label_0_i])\n",
    "            \n",
    "    train_data_set_uiclfc_np['class'] = (train_data_set_uiclfc_np['class']>0).astype('int')    #这不是将正负样例都变成正样例了吗？ 没有问题！！！\n",
    "    train_data_set_uiclfc_np['class'] = (train_data_set_uiclfc_np['class']<1).astype('int')\n",
    "    train_data_set_uiclfc_np.rename(columns={\"class\":\"label\"},inplace=True) \n",
    "    print(\"train_data_set_uiclfc_np shape:\",train_data_set_uiclfc_np.shape,\"np_ratio:\",train_np_ratio)\n",
    "    print(\"train data label=1:\",train_data_set_uiclfc_np[train_data_set_uiclfc_np.label==1].shape)\n",
    "    print(\"train data label=0:\",train_data_set_uiclfc_np[train_data_set_uiclfc_np.label==0].shape)\n",
    "    \n",
    "    valid_data_set_uiclfc['class'] = (valid_data_set_uiclfc['class']>0).astype('int')    #这不是将正负样例都变成正样例了吗？ 没有问题！！！\n",
    "    valid_data_set_uiclfc['class'] = (valid_data_set_uiclfc['class']<1).astype('int')\n",
    "    valid_data_set_uiclfc.rename(columns={\"class\":\"label\"},inplace=True) \n",
    "    print(\"valid_data_set_uiclfc  shape:\",valid_data_set_uiclfc.shape)\n",
    "    print(\"valid data label=1:\",valid_data_set_uiclfc[valid_data_set_uiclfc.label==1].shape)\n",
    "    print(\"valid data label=0:\",valid_data_set_uiclfc[valid_data_set_uiclfc.label==0].shape)\n",
    "    \n",
    "    '''    \n",
    "    msk = np.random.rand(len(data_set_uiclfc_np)) <= valid_ratio\n",
    "        \n",
    "    valid_data_set_uiclfc = data_set_uiclfc_np.loc[msk]\n",
    "    train_data_set_uiclfc = data_set_uiclfc_np.loc[~msk]\n",
    "    #valid_data_set_uiclfc_label_1 = valid_data_set_uiclfc[ valid_data_set_uiclfc['class'] == 0 ].sample(frac = valid_sub_ratio)'''\n",
    "\n",
    "    #construct valid set\n",
    "    valid_X = valid_data_set_uiclfc.iloc[:,:-1]\n",
    "    scaler = preprocessing.StandardScaler()\n",
    "    scaler.fit(valid_X.values)\n",
    "    valid_X_values = scaler.transform(valid_X.values)\n",
    "    valid_X = pd.DataFrame(valid_X_values)\n",
    "    \n",
    "    valid_y = pd.DataFrame(valid_data_set_uiclfc['label'])\n",
    "    \n",
    "    \n",
    "    #construct train set\n",
    "    train_X = train_data_set_uiclfc_np.iloc[:,:-1]\n",
    "    scaler = preprocessing.StandardScaler()\n",
    "    scaler.fit(train_X.values)\n",
    "    train_X_values = scaler.transform(train_X.values)\n",
    "    train_X = pd.DataFrame(train_X_values)\n",
    "    train_y = pd.DataFrame(train_data_set_uiclfc_np['label'])\n",
    "    '''print(train_X.head(5),train_X.shape)\n",
    "    print(train_y.head(5),train_y.shape)\n",
    "    print('test')'''\n",
    "    print(\"train and valid data is generated.\")\n",
    "    \n",
    "    return valid_X, valid_y, train_X, train_y\n"
   ]
  },
  {
   "cell_type": "code",
   "execution_count": 22,
   "metadata": {},
   "outputs": [
    {
     "name": "stderr",
     "output_type": "stream",
     "text": [
      "/Users/sangyongjia/anaconda3/lib/python3.7/site-packages/pandas/io/parsers.py:678: UserWarning: Duplicate names specified. This will raise an error in the future.\n",
      "  return _read(filepath_or_buffer, kwds)\n"
     ]
    },
    {
     "name": "stdout",
     "output_type": "stream",
     "text": [
      "train_data_set_uiclfc_np shape: (161268, 142) np_ratio: 60\n",
      "train data label=1: (2579, 142)\n",
      "train data label=0: (158689, 142)\n"
     ]
    },
    {
     "name": "stderr",
     "output_type": "stream",
     "text": [
      "/Users/sangyongjia/anaconda3/lib/python3.7/site-packages/ipykernel_launcher.py:57: SettingWithCopyWarning: \n",
      "A value is trying to be set on a copy of a slice from a DataFrame.\n",
      "Try using .loc[row_indexer,col_indexer] = value instead\n",
      "\n",
      "See the caveats in the documentation: http://pandas.pydata.org/pandas-docs/stable/indexing.html#indexing-view-versus-copy\n",
      "/Users/sangyongjia/anaconda3/lib/python3.7/site-packages/ipykernel_launcher.py:58: SettingWithCopyWarning: \n",
      "A value is trying to be set on a copy of a slice from a DataFrame.\n",
      "Try using .loc[row_indexer,col_indexer] = value instead\n",
      "\n",
      "See the caveats in the documentation: http://pandas.pydata.org/pandas-docs/stable/indexing.html#indexing-view-versus-copy\n",
      "/Users/sangyongjia/anaconda3/lib/python3.7/site-packages/pandas/core/frame.py:3781: SettingWithCopyWarning: \n",
      "A value is trying to be set on a copy of a slice from a DataFrame\n",
      "\n",
      "See the caveats in the documentation: http://pandas.pydata.org/pandas-docs/stable/indexing.html#indexing-view-versus-copy\n",
      "  return super(DataFrame, self).rename(**kwargs)\n"
     ]
    },
    {
     "name": "stdout",
     "output_type": "stream",
     "text": [
      "valid_data_set_uiclfc  shape: (353950, 142)\n",
      "valid data label=1: (304, 142)\n",
      "valid data label=0: (353646, 142)\n",
      "train and valid data is generated.\n"
     ]
    }
   ],
   "source": [
    "valid_X, valid_y, train_X, train_y = valid_train_set_construct(0.1, 60)"
   ]
  },
  {
   "cell_type": "code",
   "execution_count": 27,
   "metadata": {},
   "outputs": [
    {
     "data": {
      "text/plain": [
       "pandas.core.frame.DataFrame"
      ]
     },
     "execution_count": 27,
     "metadata": {},
     "output_type": "execute_result"
    }
   ],
   "source": [
    "type(valid_X)"
   ]
  },
  {
   "cell_type": "code",
   "execution_count": 39,
   "metadata": {},
   "outputs": [
    {
     "name": "stderr",
     "output_type": "stream",
     "text": [
      "/Users/sangyongjia/anaconda3/lib/python3.7/site-packages/pandas/io/parsers.py:678: UserWarning: Duplicate names specified. This will raise an error in the future.\n",
      "  return _read(filepath_or_buffer, kwds)\n"
     ]
    },
    {
     "name": "stdout",
     "output_type": "stream",
     "text": [
      "train_data_set_uiclfc_np shape: (9344, 142) np_ratio: 1\n",
      "train data label=1: (4577, 142)\n",
      "train data label=0: (4767, 142)\n"
     ]
    },
    {
     "name": "stderr",
     "output_type": "stream",
     "text": [
      "/Users/sangyongjia/anaconda3/lib/python3.7/site-packages/ipykernel_launcher.py:57: SettingWithCopyWarning: \n",
      "A value is trying to be set on a copy of a slice from a DataFrame.\n",
      "Try using .loc[row_indexer,col_indexer] = value instead\n",
      "\n",
      "See the caveats in the documentation: http://pandas.pydata.org/pandas-docs/stable/indexing.html#indexing-view-versus-copy\n",
      "/Users/sangyongjia/anaconda3/lib/python3.7/site-packages/ipykernel_launcher.py:58: SettingWithCopyWarning: \n",
      "A value is trying to be set on a copy of a slice from a DataFrame.\n",
      "Try using .loc[row_indexer,col_indexer] = value instead\n",
      "\n",
      "See the caveats in the documentation: http://pandas.pydata.org/pandas-docs/stable/indexing.html#indexing-view-versus-copy\n",
      "/Users/sangyongjia/anaconda3/lib/python3.7/site-packages/pandas/core/frame.py:3781: SettingWithCopyWarning: \n",
      "A value is trying to be set on a copy of a slice from a DataFrame\n",
      "\n",
      "See the caveats in the documentation: http://pandas.pydata.org/pandas-docs/stable/indexing.html#indexing-view-versus-copy\n",
      "  return super(DataFrame, self).rename(**kwargs)\n"
     ]
    },
    {
     "name": "stdout",
     "output_type": "stream",
     "text": [
      "valid_data_set_uiclfc  shape: (636620, 142)\n",
      "valid data label=1: (543, 142)\n",
      "valid data label=0: (636077, 142)\n",
      "train and valid data is generated.\n",
      "      Iter       Train Loss      OOB Improve   Remaining Time \n",
      "         1           1.3302           0.0461            5.38s\n",
      "         2           1.2808           0.0441            5.27s\n",
      "         3           1.2333           0.0391            5.38s\n",
      "         4           1.1911           0.0337            5.41s\n",
      "         5           1.1510           0.0327            5.30s\n",
      "         6           1.1140           0.0297            5.30s\n",
      "         7           1.0788           0.0276            5.23s\n",
      "         8           1.0408           0.0226            5.32s\n",
      "         9           1.0162           0.0232            5.27s\n",
      "        10           0.9860           0.0228            5.29s\n",
      "        20           0.7741           0.0105            4.94s\n",
      "        30           0.6399           0.0047            4.48s\n",
      "        40           0.5435           0.0018            4.02s\n",
      "        50           0.4731           0.0006            3.60s\n",
      "        60           0.4232           0.0001            3.19s\n",
      "        70           0.3750          -0.0001            2.81s\n",
      "        80           0.3419          -0.0006            2.42s\n",
      "        90           0.3159           0.0000            2.03s\n",
      "       100           0.2814          -0.0006            1.69s\n",
      "modle_gbdt [NP ratio = 1] is fitted\n",
      "time used 188 s\n"
     ]
    },
    {
     "name": "stderr",
     "output_type": "stream",
     "text": [
      "/Users/sangyongjia/anaconda3/lib/python3.7/site-packages/pandas/io/parsers.py:678: UserWarning: Duplicate names specified. This will raise an error in the future.\n",
      "  return _read(filepath_or_buffer, kwds)\n"
     ]
    },
    {
     "name": "stdout",
     "output_type": "stream",
     "text": [
      "train_data_set_uiclfc_np shape: (28450, 142) np_ratio: 5\n",
      "train data label=1: (4609, 142)\n",
      "train data label=0: (23841, 142)\n"
     ]
    },
    {
     "name": "stderr",
     "output_type": "stream",
     "text": [
      "/Users/sangyongjia/anaconda3/lib/python3.7/site-packages/ipykernel_launcher.py:57: SettingWithCopyWarning: \n",
      "A value is trying to be set on a copy of a slice from a DataFrame.\n",
      "Try using .loc[row_indexer,col_indexer] = value instead\n",
      "\n",
      "See the caveats in the documentation: http://pandas.pydata.org/pandas-docs/stable/indexing.html#indexing-view-versus-copy\n",
      "/Users/sangyongjia/anaconda3/lib/python3.7/site-packages/ipykernel_launcher.py:58: SettingWithCopyWarning: \n",
      "A value is trying to be set on a copy of a slice from a DataFrame.\n",
      "Try using .loc[row_indexer,col_indexer] = value instead\n",
      "\n",
      "See the caveats in the documentation: http://pandas.pydata.org/pandas-docs/stable/indexing.html#indexing-view-versus-copy\n",
      "/Users/sangyongjia/anaconda3/lib/python3.7/site-packages/pandas/core/frame.py:3781: SettingWithCopyWarning: \n",
      "A value is trying to be set on a copy of a slice from a DataFrame\n",
      "\n",
      "See the caveats in the documentation: http://pandas.pydata.org/pandas-docs/stable/indexing.html#indexing-view-versus-copy\n",
      "  return super(DataFrame, self).rename(**kwargs)\n"
     ]
    },
    {
     "name": "stdout",
     "output_type": "stream",
     "text": [
      "valid_data_set_uiclfc  shape: (636390, 142)\n",
      "valid data label=1: (511, 142)\n",
      "valid data label=0: (635879, 142)\n",
      "train and valid data is generated.\n",
      "      Iter       Train Loss      OOB Improve   Remaining Time \n",
      "         1           0.8385           0.0416           24.11s\n",
      "         2           0.7986           0.0342           21.81s\n",
      "         3           0.7622           0.0279           21.04s\n",
      "         4           0.7246           0.0239           20.08s\n",
      "         5           0.7021           0.0217           20.16s\n",
      "         6           0.6772           0.0180           20.19s\n",
      "         7           0.6565           0.0167           19.86s\n",
      "         8           0.6316           0.0157           19.80s\n",
      "         9           0.6154           0.0145           19.81s\n",
      "        10           0.6026           0.0132           19.51s\n",
      "        20           0.4726           0.0053           17.77s\n",
      "        30           0.3989           0.0028           17.11s\n",
      "        40           0.3452           0.0008           15.22s\n",
      "        50           0.3064           0.0002           13.57s\n",
      "        60           0.2819           0.0003           11.83s\n",
      "        70           0.2543          -0.0002           10.37s\n",
      "        80           0.2332          -0.0001            8.94s\n",
      "        90           0.2157          -0.0000            7.54s\n",
      "       100           0.2027          -0.0000            6.22s\n",
      "modle_gbdt [NP ratio = 5] is fitted\n",
      "time used 204 s\n"
     ]
    },
    {
     "name": "stderr",
     "output_type": "stream",
     "text": [
      "/Users/sangyongjia/anaconda3/lib/python3.7/site-packages/pandas/io/parsers.py:678: UserWarning: Duplicate names specified. This will raise an error in the future.\n",
      "  return _read(filepath_or_buffer, kwds)\n"
     ]
    },
    {
     "name": "stdout",
     "output_type": "stream",
     "text": [
      "train_data_set_uiclfc_np shape: (52260, 142) np_ratio: 10\n",
      "train data label=1: (4585, 142)\n",
      "train data label=0: (47675, 142)\n"
     ]
    },
    {
     "name": "stderr",
     "output_type": "stream",
     "text": [
      "/Users/sangyongjia/anaconda3/lib/python3.7/site-packages/ipykernel_launcher.py:57: SettingWithCopyWarning: \n",
      "A value is trying to be set on a copy of a slice from a DataFrame.\n",
      "Try using .loc[row_indexer,col_indexer] = value instead\n",
      "\n",
      "See the caveats in the documentation: http://pandas.pydata.org/pandas-docs/stable/indexing.html#indexing-view-versus-copy\n",
      "/Users/sangyongjia/anaconda3/lib/python3.7/site-packages/ipykernel_launcher.py:58: SettingWithCopyWarning: \n",
      "A value is trying to be set on a copy of a slice from a DataFrame.\n",
      "Try using .loc[row_indexer,col_indexer] = value instead\n",
      "\n",
      "See the caveats in the documentation: http://pandas.pydata.org/pandas-docs/stable/indexing.html#indexing-view-versus-copy\n",
      "/Users/sangyongjia/anaconda3/lib/python3.7/site-packages/pandas/core/frame.py:3781: SettingWithCopyWarning: \n",
      "A value is trying to be set on a copy of a slice from a DataFrame\n",
      "\n",
      "See the caveats in the documentation: http://pandas.pydata.org/pandas-docs/stable/indexing.html#indexing-view-versus-copy\n",
      "  return super(DataFrame, self).rename(**kwargs)\n"
     ]
    },
    {
     "name": "stdout",
     "output_type": "stream",
     "text": [
      "valid_data_set_uiclfc  shape: (636116, 142)\n",
      "valid data label=1: (535, 142)\n",
      "valid data label=0: (635581, 142)\n",
      "train and valid data is generated.\n",
      "      Iter       Train Loss      OOB Improve   Remaining Time \n",
      "         1           0.5433           0.0371           45.22s\n",
      "         2           0.5112           0.0251           44.58s\n",
      "         3           0.4891           0.0192           46.22s\n",
      "         4           0.4645           0.0155           48.68s\n",
      "         5           0.4523           0.0127           47.03s\n",
      "         6           0.4287           0.0120           46.99s\n",
      "         7           0.4140           0.0101           97.56m\n",
      "         8           0.4027           0.0094           84.88m\n",
      "         9           0.3972           0.0079           75.02m\n",
      "        10           0.3763           0.0073           67.14m\n",
      "        20           0.3034           0.0028           31.53m\n",
      "        30           0.2627           0.0014           19.61m\n",
      "        40           0.2284           0.0007           13.76m\n",
      "        50           0.2041          -0.0001          110.23m\n",
      "        60           0.1799           0.0001           82.76m\n",
      "        70           0.1707           0.0000           63.12m\n",
      "        80           0.1587          -0.0001           48.37m\n",
      "        90           0.1499          -0.0001           36.89m\n",
      "       100           0.1400          -0.0001           27.68m\n",
      "modle_gbdt [NP ratio = 10] is fitted\n",
      "time used 3528 s\n"
     ]
    },
    {
     "name": "stderr",
     "output_type": "stream",
     "text": [
      "/Users/sangyongjia/anaconda3/lib/python3.7/site-packages/pandas/io/parsers.py:678: UserWarning: Duplicate names specified. This will raise an error in the future.\n",
      "  return _read(filepath_or_buffer, kwds)\n"
     ]
    },
    {
     "name": "stdout",
     "output_type": "stream",
     "text": [
      "train_data_set_uiclfc_np shape: (76117, 142) np_ratio: 15\n",
      "train data label=1: (4609, 142)\n",
      "train data label=0: (71508, 142)\n"
     ]
    },
    {
     "name": "stderr",
     "output_type": "stream",
     "text": [
      "/Users/sangyongjia/anaconda3/lib/python3.7/site-packages/ipykernel_launcher.py:57: SettingWithCopyWarning: \n",
      "A value is trying to be set on a copy of a slice from a DataFrame.\n",
      "Try using .loc[row_indexer,col_indexer] = value instead\n",
      "\n",
      "See the caveats in the documentation: http://pandas.pydata.org/pandas-docs/stable/indexing.html#indexing-view-versus-copy\n",
      "/Users/sangyongjia/anaconda3/lib/python3.7/site-packages/ipykernel_launcher.py:58: SettingWithCopyWarning: \n",
      "A value is trying to be set on a copy of a slice from a DataFrame.\n",
      "Try using .loc[row_indexer,col_indexer] = value instead\n",
      "\n",
      "See the caveats in the documentation: http://pandas.pydata.org/pandas-docs/stable/indexing.html#indexing-view-versus-copy\n",
      "/Users/sangyongjia/anaconda3/lib/python3.7/site-packages/pandas/core/frame.py:3781: SettingWithCopyWarning: \n",
      "A value is trying to be set on a copy of a slice from a DataFrame\n",
      "\n",
      "See the caveats in the documentation: http://pandas.pydata.org/pandas-docs/stable/indexing.html#indexing-view-versus-copy\n",
      "  return super(DataFrame, self).rename(**kwargs)\n"
     ]
    },
    {
     "name": "stdout",
     "output_type": "stream",
     "text": [
      "valid_data_set_uiclfc  shape: (636026, 142)\n",
      "valid data label=1: (511, 142)\n",
      "valid data label=0: (635515, 142)\n",
      "train and valid data is generated.\n",
      "      Iter       Train Loss      OOB Improve   Remaining Time \n",
      "         1           0.4152           0.0344            1.40m\n",
      "         2           0.3882           0.0201            1.51m\n",
      "         3           0.3667           0.0158            1.47m\n",
      "         4           0.3551           0.0117            1.48m\n",
      "         5           0.3385           0.0097            1.45m\n",
      "         6           0.3249           0.0081            1.45m\n",
      "         7           0.3154           0.0071            1.44m\n",
      "         8           0.3041           0.0062            1.42m\n",
      "         9           0.2974           0.0053            1.42m\n",
      "        10           0.2875           0.0047            1.38m\n",
      "        20           0.2332           0.0021            1.23m\n",
      "        30           0.1977           0.0011            1.12m\n",
      "        40           0.1746           0.0003            1.02m\n",
      "        50           0.1570          -0.0000           54.88s\n",
      "        60           0.1444           0.0002           48.35s\n",
      "        70           0.1320          -0.0000           42.25s\n",
      "        80           0.1227          -0.0000           36.03s\n",
      "        90           0.1162           0.0000           30.25s\n",
      "       100           0.1080          -0.0000           24.94s\n",
      "modle_gbdt [NP ratio = 15] is fitted\n",
      "time used 266 s\n"
     ]
    },
    {
     "name": "stderr",
     "output_type": "stream",
     "text": [
      "/Users/sangyongjia/anaconda3/lib/python3.7/site-packages/pandas/io/parsers.py:678: UserWarning: Duplicate names specified. This will raise an error in the future.\n",
      "  return _read(filepath_or_buffer, kwds)\n"
     ]
    },
    {
     "name": "stdout",
     "output_type": "stream",
     "text": [
      "train_data_set_uiclfc_np shape: (99947, 142) np_ratio: 20\n",
      "train data label=1: (4588, 142)\n",
      "train data label=0: (95359, 142)\n"
     ]
    },
    {
     "name": "stderr",
     "output_type": "stream",
     "text": [
      "/Users/sangyongjia/anaconda3/lib/python3.7/site-packages/ipykernel_launcher.py:57: SettingWithCopyWarning: \n",
      "A value is trying to be set on a copy of a slice from a DataFrame.\n",
      "Try using .loc[row_indexer,col_indexer] = value instead\n",
      "\n",
      "See the caveats in the documentation: http://pandas.pydata.org/pandas-docs/stable/indexing.html#indexing-view-versus-copy\n",
      "/Users/sangyongjia/anaconda3/lib/python3.7/site-packages/ipykernel_launcher.py:58: SettingWithCopyWarning: \n",
      "A value is trying to be set on a copy of a slice from a DataFrame.\n",
      "Try using .loc[row_indexer,col_indexer] = value instead\n",
      "\n",
      "See the caveats in the documentation: http://pandas.pydata.org/pandas-docs/stable/indexing.html#indexing-view-versus-copy\n",
      "/Users/sangyongjia/anaconda3/lib/python3.7/site-packages/pandas/core/frame.py:3781: SettingWithCopyWarning: \n",
      "A value is trying to be set on a copy of a slice from a DataFrame\n",
      "\n",
      "See the caveats in the documentation: http://pandas.pydata.org/pandas-docs/stable/indexing.html#indexing-view-versus-copy\n",
      "  return super(DataFrame, self).rename(**kwargs)\n"
     ]
    },
    {
     "name": "stdout",
     "output_type": "stream",
     "text": [
      "valid_data_set_uiclfc  shape: (635677, 142)\n",
      "valid data label=1: (532, 142)\n",
      "valid data label=0: (635145, 142)\n",
      "train and valid data is generated.\n",
      "      Iter       Train Loss      OOB Improve   Remaining Time \n",
      "         1           0.3338           0.0288            1.86m\n",
      "         2           0.3091           0.0163            1.99m\n",
      "         3           0.2963           0.0106            2.14m\n",
      "         4           0.2822           0.0088            2.18m\n",
      "         5           0.2705           0.0081            2.13m\n",
      "         6           0.2620           0.0066            2.06m\n",
      "         7           0.2540           0.0056            2.01m\n",
      "         8           0.2475           0.0046            1.96m\n",
      "         9           0.2414           0.0042            1.97m\n",
      "        10           0.2324           0.0042            1.95m\n",
      "        20           0.1918           0.0014            1.71m\n",
      "        30           0.1635           0.0006            1.57m\n",
      "        40           0.1436           0.0002            1.41m\n",
      "        50           0.1306           0.0001            1.28m\n",
      "        60           0.1185           0.0000            1.12m\n",
      "        70           0.1099          -0.0000           58.61s\n",
      "        80           0.1037          -0.0001           50.05s\n",
      "        90           0.0974          -0.0001           42.02s\n",
      "       100           0.0917          -0.0000           34.68s\n",
      "modle_gbdt [NP ratio = 20] is fitted\n",
      "time used 293 s\n"
     ]
    },
    {
     "name": "stderr",
     "output_type": "stream",
     "text": [
      "/Users/sangyongjia/anaconda3/lib/python3.7/site-packages/pandas/io/parsers.py:678: UserWarning: Duplicate names specified. This will raise an error in the future.\n",
      "  return _read(filepath_or_buffer, kwds)\n"
     ]
    },
    {
     "name": "stdout",
     "output_type": "stream",
     "text": [
      "train_data_set_uiclfc_np shape: (123761, 142) np_ratio: 25\n",
      "train data label=1: (4570, 142)\n",
      "train data label=0: (119191, 142)\n"
     ]
    },
    {
     "name": "stderr",
     "output_type": "stream",
     "text": [
      "/Users/sangyongjia/anaconda3/lib/python3.7/site-packages/ipykernel_launcher.py:57: SettingWithCopyWarning: \n",
      "A value is trying to be set on a copy of a slice from a DataFrame.\n",
      "Try using .loc[row_indexer,col_indexer] = value instead\n",
      "\n",
      "See the caveats in the documentation: http://pandas.pydata.org/pandas-docs/stable/indexing.html#indexing-view-versus-copy\n",
      "/Users/sangyongjia/anaconda3/lib/python3.7/site-packages/ipykernel_launcher.py:58: SettingWithCopyWarning: \n",
      "A value is trying to be set on a copy of a slice from a DataFrame.\n",
      "Try using .loc[row_indexer,col_indexer] = value instead\n",
      "\n",
      "See the caveats in the documentation: http://pandas.pydata.org/pandas-docs/stable/indexing.html#indexing-view-versus-copy\n",
      "/Users/sangyongjia/anaconda3/lib/python3.7/site-packages/pandas/core/frame.py:3781: SettingWithCopyWarning: \n",
      "A value is trying to be set on a copy of a slice from a DataFrame\n",
      "\n",
      "See the caveats in the documentation: http://pandas.pydata.org/pandas-docs/stable/indexing.html#indexing-view-versus-copy\n",
      "  return super(DataFrame, self).rename(**kwargs)\n"
     ]
    },
    {
     "name": "stdout",
     "output_type": "stream",
     "text": [
      "valid_data_set_uiclfc  shape: (635776, 142)\n",
      "valid data label=1: (550, 142)\n",
      "valid data label=0: (635226, 142)\n",
      "train and valid data is generated.\n",
      "      Iter       Train Loss      OOB Improve   Remaining Time \n",
      "         1           0.2766           0.0283            2.53m\n",
      "         2           0.2590           0.0122            2.47m\n",
      "         3           0.2439           0.0090            2.61m\n",
      "         4           0.2324           0.0072            2.63m\n",
      "         5           0.2254           0.0058            2.63m\n",
      "         6           0.2176           0.0050            2.52m\n",
      "         7           0.2125           0.0044            2.53m\n",
      "         8           0.2052           0.0036            2.53m\n",
      "         9           0.1979           0.0032            2.51m\n",
      "        10           0.1921           0.0033            2.54m\n",
      "        20           0.1571           0.0012            2.29m\n",
      "        30           0.1337           0.0005            2.10m\n",
      "        40           0.1188           0.0001            1.91m\n",
      "        50           0.1080           0.0001            1.69m\n",
      "        60           0.0982           0.0000            1.48m\n",
      "        70           0.0917          -0.0001            1.28m\n",
      "        80           0.0851          -0.0000            1.09m\n",
      "        90           0.0800          -0.0000           55.02s\n",
      "       100           0.0765          -0.0000           44.97s\n",
      "modle_gbdt [NP ratio = 25] is fitted\n",
      "time used 308 s\n"
     ]
    },
    {
     "name": "stderr",
     "output_type": "stream",
     "text": [
      "/Users/sangyongjia/anaconda3/lib/python3.7/site-packages/pandas/io/parsers.py:678: UserWarning: Duplicate names specified. This will raise an error in the future.\n",
      "  return _read(filepath_or_buffer, kwds)\n"
     ]
    },
    {
     "name": "stdout",
     "output_type": "stream",
     "text": [
      "train_data_set_uiclfc_np shape: (147658, 142) np_ratio: 30\n",
      "train data label=1: (4644, 142)\n",
      "train data label=0: (143014, 142)\n"
     ]
    },
    {
     "name": "stderr",
     "output_type": "stream",
     "text": [
      "/Users/sangyongjia/anaconda3/lib/python3.7/site-packages/ipykernel_launcher.py:57: SettingWithCopyWarning: \n",
      "A value is trying to be set on a copy of a slice from a DataFrame.\n",
      "Try using .loc[row_indexer,col_indexer] = value instead\n",
      "\n",
      "See the caveats in the documentation: http://pandas.pydata.org/pandas-docs/stable/indexing.html#indexing-view-versus-copy\n",
      "/Users/sangyongjia/anaconda3/lib/python3.7/site-packages/ipykernel_launcher.py:58: SettingWithCopyWarning: \n",
      "A value is trying to be set on a copy of a slice from a DataFrame.\n",
      "Try using .loc[row_indexer,col_indexer] = value instead\n",
      "\n",
      "See the caveats in the documentation: http://pandas.pydata.org/pandas-docs/stable/indexing.html#indexing-view-versus-copy\n",
      "/Users/sangyongjia/anaconda3/lib/python3.7/site-packages/pandas/core/frame.py:3781: SettingWithCopyWarning: \n",
      "A value is trying to be set on a copy of a slice from a DataFrame\n",
      "\n",
      "See the caveats in the documentation: http://pandas.pydata.org/pandas-docs/stable/indexing.html#indexing-view-versus-copy\n",
      "  return super(DataFrame, self).rename(**kwargs)\n"
     ]
    },
    {
     "name": "stdout",
     "output_type": "stream",
     "text": [
      "valid_data_set_uiclfc  shape: (636102, 142)\n",
      "valid data label=1: (476, 142)\n",
      "valid data label=0: (635626, 142)\n",
      "train and valid data is generated.\n",
      "      Iter       Train Loss      OOB Improve   Remaining Time \n",
      "         1           0.2432           0.0256            3.08m\n",
      "         2           0.2278           0.0104            3.34m\n",
      "         3           0.2181           0.0079            3.25m\n",
      "         4           0.2098           0.0058            3.42m\n",
      "         5           0.2006           0.0054            3.45m\n",
      "         6           0.1957           0.0041            3.31m\n",
      "         7           0.1851           0.0038            3.25m\n",
      "         8           0.1815           0.0034            3.20m\n",
      "         9           0.1776           0.0026            3.14m\n",
      "        10           0.1711           0.0025            3.17m\n",
      "        20           0.1395           0.0009            2.89m\n",
      "        30           0.1216           0.0003            2.60m\n",
      "        40           0.1099           0.0002            2.33m\n",
      "        50           0.0993           0.0000            2.09m\n",
      "        60           0.0920          -0.0000            1.84m\n",
      "        70           0.0849           0.0000            1.60m\n",
      "        80           0.0807          -0.0000            1.37m\n",
      "        90           0.0756          -0.0000            1.15m\n",
      "       100           0.0712          -0.0000           56.16s\n",
      "modle_gbdt [NP ratio = 30] is fitted\n",
      "time used 365 s\n"
     ]
    },
    {
     "name": "stderr",
     "output_type": "stream",
     "text": [
      "/Users/sangyongjia/anaconda3/lib/python3.7/site-packages/pandas/io/parsers.py:678: UserWarning: Duplicate names specified. This will raise an error in the future.\n",
      "  return _read(filepath_or_buffer, kwds)\n"
     ]
    },
    {
     "name": "stdout",
     "output_type": "stream",
     "text": [
      "train_data_set_uiclfc_np shape: (171444, 142) np_ratio: 35\n",
      "train data label=1: (4595, 142)\n",
      "train data label=0: (166849, 142)\n"
     ]
    },
    {
     "name": "stderr",
     "output_type": "stream",
     "text": [
      "/Users/sangyongjia/anaconda3/lib/python3.7/site-packages/ipykernel_launcher.py:57: SettingWithCopyWarning: \n",
      "A value is trying to be set on a copy of a slice from a DataFrame.\n",
      "Try using .loc[row_indexer,col_indexer] = value instead\n",
      "\n",
      "See the caveats in the documentation: http://pandas.pydata.org/pandas-docs/stable/indexing.html#indexing-view-versus-copy\n",
      "/Users/sangyongjia/anaconda3/lib/python3.7/site-packages/ipykernel_launcher.py:58: SettingWithCopyWarning: \n",
      "A value is trying to be set on a copy of a slice from a DataFrame.\n",
      "Try using .loc[row_indexer,col_indexer] = value instead\n",
      "\n",
      "See the caveats in the documentation: http://pandas.pydata.org/pandas-docs/stable/indexing.html#indexing-view-versus-copy\n",
      "/Users/sangyongjia/anaconda3/lib/python3.7/site-packages/pandas/core/frame.py:3781: SettingWithCopyWarning: \n",
      "A value is trying to be set on a copy of a slice from a DataFrame\n",
      "\n",
      "See the caveats in the documentation: http://pandas.pydata.org/pandas-docs/stable/indexing.html#indexing-view-versus-copy\n",
      "  return super(DataFrame, self).rename(**kwargs)\n"
     ]
    },
    {
     "name": "stdout",
     "output_type": "stream",
     "text": [
      "valid_data_set_uiclfc  shape: (636372, 142)\n",
      "valid data label=1: (525, 142)\n",
      "valid data label=0: (635847, 142)\n",
      "train and valid data is generated.\n",
      "      Iter       Train Loss      OOB Improve   Remaining Time \n",
      "         1           0.2126           0.0227            3.55m\n",
      "         2           0.2002           0.0094            3.64m\n",
      "         3           0.1899           0.0071            3.56m\n",
      "         4           0.1817           0.0054            3.74m\n",
      "         5           0.1763           0.0045            3.66m\n",
      "         6           0.1694           0.0037            3.63m\n",
      "         7           0.1633           0.0034            3.64m\n",
      "         8           0.1586           0.0026            3.69m\n",
      "         9           0.1539           0.0025            3.65m\n",
      "        10           0.1499           0.0023            3.67m\n",
      "        20           0.1230           0.0008            3.41m\n",
      "        30           0.1064           0.0003            3.15m\n",
      "        40           0.0938           0.0001            2.87m\n",
      "        50           0.0858           0.0001            2.57m\n",
      "        60           0.0779           0.0000            2.29m\n",
      "        70           0.0734          -0.0000            1.99m\n",
      "        80           0.0677          -0.0000            1.73m\n",
      "        90           0.0637           0.0000            1.47m\n",
      "       100           0.0602          -0.0000            1.20m\n",
      "modle_gbdt [NP ratio = 35] is fitted\n",
      "time used 389 s\n"
     ]
    },
    {
     "name": "stderr",
     "output_type": "stream",
     "text": [
      "/Users/sangyongjia/anaconda3/lib/python3.7/site-packages/pandas/io/parsers.py:678: UserWarning: Duplicate names specified. This will raise an error in the future.\n",
      "  return _read(filepath_or_buffer, kwds)\n"
     ]
    },
    {
     "name": "stdout",
     "output_type": "stream",
     "text": [
      "train_data_set_uiclfc_np shape: (195307, 142) np_ratio: 40\n",
      "train data label=1: (4612, 142)\n",
      "train data label=0: (190695, 142)\n"
     ]
    },
    {
     "name": "stderr",
     "output_type": "stream",
     "text": [
      "/Users/sangyongjia/anaconda3/lib/python3.7/site-packages/ipykernel_launcher.py:57: SettingWithCopyWarning: \n",
      "A value is trying to be set on a copy of a slice from a DataFrame.\n",
      "Try using .loc[row_indexer,col_indexer] = value instead\n",
      "\n",
      "See the caveats in the documentation: http://pandas.pydata.org/pandas-docs/stable/indexing.html#indexing-view-versus-copy\n",
      "/Users/sangyongjia/anaconda3/lib/python3.7/site-packages/ipykernel_launcher.py:58: SettingWithCopyWarning: \n",
      "A value is trying to be set on a copy of a slice from a DataFrame.\n",
      "Try using .loc[row_indexer,col_indexer] = value instead\n",
      "\n",
      "See the caveats in the documentation: http://pandas.pydata.org/pandas-docs/stable/indexing.html#indexing-view-versus-copy\n",
      "/Users/sangyongjia/anaconda3/lib/python3.7/site-packages/pandas/core/frame.py:3781: SettingWithCopyWarning: \n",
      "A value is trying to be set on a copy of a slice from a DataFrame\n",
      "\n",
      "See the caveats in the documentation: http://pandas.pydata.org/pandas-docs/stable/indexing.html#indexing-view-versus-copy\n",
      "  return super(DataFrame, self).rename(**kwargs)\n"
     ]
    },
    {
     "name": "stdout",
     "output_type": "stream",
     "text": [
      "valid_data_set_uiclfc  shape: (635863, 142)\n",
      "valid data label=1: (508, 142)\n",
      "valid data label=0: (635355, 142)\n",
      "train and valid data is generated.\n",
      "      Iter       Train Loss      OOB Improve   Remaining Time \n",
      "         1           0.1896           0.0230            5.14m\n",
      "         2           0.1751           0.0083            5.47m\n",
      "         3           0.1698           0.0059            4.91m\n",
      "         4           0.1620           0.0043            4.89m\n",
      "         5           0.1567           0.0037            4.78m\n",
      "         6           0.1513           0.0030            4.62m\n",
      "         7           0.1472           0.0029            4.52m\n",
      "         8           0.1433           0.0024            4.50m\n",
      "         9           0.1391           0.0022            4.49m\n",
      "        10           0.1353           0.0020            4.45m\n",
      "        20           0.1105           0.0006            4.30m\n",
      "        30           0.0948           0.0003            3.89m\n",
      "        40           0.0837           0.0000            3.48m\n",
      "        50           0.0759           0.0000            3.14m\n",
      "        60           0.0688           0.0000            2.76m\n",
      "        70           0.0650           0.0000            2.37m\n",
      "        80           0.0613          -0.0000            2.05m\n",
      "        90           0.0583          -0.0000            1.71m\n",
      "       100           0.0552          -0.0000            1.39m\n",
      "modle_gbdt [NP ratio = 40] is fitted\n",
      "time used 455 s\n"
     ]
    },
    {
     "name": "stderr",
     "output_type": "stream",
     "text": [
      "/Users/sangyongjia/anaconda3/lib/python3.7/site-packages/pandas/io/parsers.py:678: UserWarning: Duplicate names specified. This will raise an error in the future.\n",
      "  return _read(filepath_or_buffer, kwds)\n"
     ]
    },
    {
     "name": "stdout",
     "output_type": "stream",
     "text": [
      "train_data_set_uiclfc_np shape: (219094, 142) np_ratio: 45\n",
      "train data label=1: (4595, 142)\n",
      "train data label=0: (214499, 142)\n"
     ]
    },
    {
     "name": "stderr",
     "output_type": "stream",
     "text": [
      "/Users/sangyongjia/anaconda3/lib/python3.7/site-packages/ipykernel_launcher.py:57: SettingWithCopyWarning: \n",
      "A value is trying to be set on a copy of a slice from a DataFrame.\n",
      "Try using .loc[row_indexer,col_indexer] = value instead\n",
      "\n",
      "See the caveats in the documentation: http://pandas.pydata.org/pandas-docs/stable/indexing.html#indexing-view-versus-copy\n",
      "/Users/sangyongjia/anaconda3/lib/python3.7/site-packages/ipykernel_launcher.py:58: SettingWithCopyWarning: \n",
      "A value is trying to be set on a copy of a slice from a DataFrame.\n",
      "Try using .loc[row_indexer,col_indexer] = value instead\n",
      "\n",
      "See the caveats in the documentation: http://pandas.pydata.org/pandas-docs/stable/indexing.html#indexing-view-versus-copy\n",
      "/Users/sangyongjia/anaconda3/lib/python3.7/site-packages/pandas/core/frame.py:3781: SettingWithCopyWarning: \n",
      "A value is trying to be set on a copy of a slice from a DataFrame\n",
      "\n",
      "See the caveats in the documentation: http://pandas.pydata.org/pandas-docs/stable/indexing.html#indexing-view-versus-copy\n",
      "  return super(DataFrame, self).rename(**kwargs)\n"
     ]
    },
    {
     "name": "stdout",
     "output_type": "stream",
     "text": [
      "valid_data_set_uiclfc  shape: (636610, 142)\n",
      "valid data label=1: (525, 142)\n",
      "valid data label=0: (636085, 142)\n",
      "train and valid data is generated.\n",
      "      Iter       Train Loss      OOB Improve   Remaining Time \n",
      "         1           0.1708           0.0218            5.46m\n",
      "         2           0.1614           0.0069            6.10m\n",
      "         3           0.1532           0.0048            6.08m\n",
      "         4           0.1479           0.0036            5.97m\n",
      "         5           0.1404           0.0032            5.95m\n",
      "         6           0.1373           0.0027            5.89m\n",
      "         7           0.1335           0.0026            5.78m\n",
      "         8           0.1294           0.0021            5.64m\n",
      "         9           0.1244           0.0017            5.52m\n",
      "        10           0.1219           0.0015            5.39m\n",
      "        20           0.0977           0.0006            5.07m\n",
      "        30           0.0846           0.0003            4.58m\n",
      "        40           0.0757           0.0001            4.13m\n",
      "        50           0.0677           0.0000            3.73m\n",
      "        60           0.0630           0.0001            3.27m\n",
      "        70           0.0583           0.0000            2.85m\n",
      "        80           0.0556           0.0000            2.42m\n",
      "        90           0.0518           0.0000            2.03m\n",
      "       100           0.0490          -0.0000            1.65m\n",
      "modle_gbdt [NP ratio = 45] is fitted\n",
      "time used 500 s\n"
     ]
    },
    {
     "name": "stderr",
     "output_type": "stream",
     "text": [
      "/Users/sangyongjia/anaconda3/lib/python3.7/site-packages/pandas/io/parsers.py:678: UserWarning: Duplicate names specified. This will raise an error in the future.\n",
      "  return _read(filepath_or_buffer, kwds)\n"
     ]
    },
    {
     "name": "stdout",
     "output_type": "stream",
     "text": [
      "train_data_set_uiclfc_np shape: (242990, 142) np_ratio: 50\n",
      "train data label=1: (4638, 142)\n",
      "train data label=0: (238352, 142)\n"
     ]
    },
    {
     "name": "stderr",
     "output_type": "stream",
     "text": [
      "/Users/sangyongjia/anaconda3/lib/python3.7/site-packages/ipykernel_launcher.py:57: SettingWithCopyWarning: \n",
      "A value is trying to be set on a copy of a slice from a DataFrame.\n",
      "Try using .loc[row_indexer,col_indexer] = value instead\n",
      "\n",
      "See the caveats in the documentation: http://pandas.pydata.org/pandas-docs/stable/indexing.html#indexing-view-versus-copy\n",
      "/Users/sangyongjia/anaconda3/lib/python3.7/site-packages/ipykernel_launcher.py:58: SettingWithCopyWarning: \n",
      "A value is trying to be set on a copy of a slice from a DataFrame.\n",
      "Try using .loc[row_indexer,col_indexer] = value instead\n",
      "\n",
      "See the caveats in the documentation: http://pandas.pydata.org/pandas-docs/stable/indexing.html#indexing-view-versus-copy\n",
      "/Users/sangyongjia/anaconda3/lib/python3.7/site-packages/pandas/core/frame.py:3781: SettingWithCopyWarning: \n",
      "A value is trying to be set on a copy of a slice from a DataFrame\n",
      "\n",
      "See the caveats in the documentation: http://pandas.pydata.org/pandas-docs/stable/indexing.html#indexing-view-versus-copy\n",
      "  return super(DataFrame, self).rename(**kwargs)\n"
     ]
    },
    {
     "name": "stdout",
     "output_type": "stream",
     "text": [
      "valid_data_set_uiclfc  shape: (636451, 142)\n",
      "valid data label=1: (482, 142)\n",
      "valid data label=0: (635969, 142)\n",
      "train and valid data is generated.\n",
      "      Iter       Train Loss      OOB Improve   Remaining Time \n",
      "         1           0.1615           0.0205            5.42m\n",
      "         2           0.1485           0.0065            6.07m\n",
      "         3           0.1439           0.0044            6.72m\n",
      "         4           0.1357           0.0033            6.91m\n",
      "         5           0.1308           0.0032            6.94m\n",
      "         6           0.1271           0.0022            7.03m\n",
      "         7           0.1213           0.0021            6.98m\n",
      "         8           0.1189           0.0018            6.85m\n",
      "         9           0.1145           0.0017            6.77m\n",
      "        10           0.1123           0.0014            6.66m\n",
      "        20           0.0920           0.0005            5.83m\n",
      "        30           0.0802           0.0002            5.45m\n",
      "        40           0.0713           0.0001            4.92m\n",
      "        50           0.0636           0.0000            4.39m\n",
      "        60           0.0579          -0.0000            3.88m\n",
      "        70           0.0553           0.0000            3.34m\n",
      "        80           0.0513           0.0000            2.86m\n",
      "        90           0.0492          -0.0000            2.39m\n",
      "       100           0.0458           0.0000            1.94m\n",
      "modle_gbdt [NP ratio = 50] is fitted\n",
      "time used 495 s\n"
     ]
    },
    {
     "name": "stderr",
     "output_type": "stream",
     "text": [
      "/Users/sangyongjia/anaconda3/lib/python3.7/site-packages/pandas/io/parsers.py:678: UserWarning: Duplicate names specified. This will raise an error in the future.\n",
      "  return _read(filepath_or_buffer, kwds)\n"
     ]
    },
    {
     "name": "stdout",
     "output_type": "stream",
     "text": [
      "train_data_set_uiclfc_np shape: (290705, 142) np_ratio: 60\n",
      "train data label=1: (4607, 142)\n",
      "train data label=0: (286098, 142)\n"
     ]
    },
    {
     "name": "stderr",
     "output_type": "stream",
     "text": [
      "/Users/sangyongjia/anaconda3/lib/python3.7/site-packages/ipykernel_launcher.py:57: SettingWithCopyWarning: \n",
      "A value is trying to be set on a copy of a slice from a DataFrame.\n",
      "Try using .loc[row_indexer,col_indexer] = value instead\n",
      "\n",
      "See the caveats in the documentation: http://pandas.pydata.org/pandas-docs/stable/indexing.html#indexing-view-versus-copy\n",
      "/Users/sangyongjia/anaconda3/lib/python3.7/site-packages/ipykernel_launcher.py:58: SettingWithCopyWarning: \n",
      "A value is trying to be set on a copy of a slice from a DataFrame.\n",
      "Try using .loc[row_indexer,col_indexer] = value instead\n",
      "\n",
      "See the caveats in the documentation: http://pandas.pydata.org/pandas-docs/stable/indexing.html#indexing-view-versus-copy\n",
      "/Users/sangyongjia/anaconda3/lib/python3.7/site-packages/pandas/core/frame.py:3781: SettingWithCopyWarning: \n",
      "A value is trying to be set on a copy of a slice from a DataFrame\n",
      "\n",
      "See the caveats in the documentation: http://pandas.pydata.org/pandas-docs/stable/indexing.html#indexing-view-versus-copy\n",
      "  return super(DataFrame, self).rename(**kwargs)\n"
     ]
    },
    {
     "name": "stdout",
     "output_type": "stream",
     "text": [
      "valid_data_set_uiclfc  shape: (634994, 142)\n",
      "valid data label=1: (513, 142)\n",
      "valid data label=0: (634481, 142)\n",
      "train and valid data is generated.\n",
      "      Iter       Train Loss      OOB Improve   Remaining Time \n",
      "         1           0.1351           0.0164            8.18m\n",
      "         2           0.1272           0.0048            8.15m\n",
      "         3           0.1218           0.0037            8.11m\n",
      "         4           0.1174           0.0028            7.96m\n",
      "         5           0.1127           0.0022            7.72m\n",
      "         6           0.1097           0.0019            7.70m\n",
      "         7           0.1073           0.0016            7.63m\n",
      "         8           0.1017           0.0016            7.54m\n",
      "         9           0.1004           0.0013            7.55m\n",
      "        10           0.0971           0.0011            7.58m\n",
      "        20           0.0799           0.0005            7.14m\n",
      "        30           0.0702           0.0001            6.49m\n",
      "        40           0.0624           0.0001            5.75m\n",
      "        50           0.0566          -0.0000            5.14m\n",
      "        60           0.0523           0.0000            4.53m\n",
      "        70           0.0490           0.0000            3.95m\n",
      "        80           0.0465          -0.0000            3.38m\n",
      "        90           0.0433          -0.0000            2.85m\n",
      "       100           0.0411          -0.0000            2.31m\n",
      "modle_gbdt [NP ratio = 60] is fitted\n",
      "time used 593 s\n"
     ]
    },
    {
     "name": "stderr",
     "output_type": "stream",
     "text": [
      "/Users/sangyongjia/anaconda3/lib/python3.7/site-packages/pandas/io/parsers.py:678: UserWarning: Duplicate names specified. This will raise an error in the future.\n",
      "  return _read(filepath_or_buffer, kwds)\n"
     ]
    },
    {
     "name": "stdout",
     "output_type": "stream",
     "text": [
      "train_data_set_uiclfc_np shape: (338297, 142) np_ratio: 70\n",
      "train data label=1: (4634, 142)\n",
      "train data label=0: (333663, 142)\n"
     ]
    },
    {
     "name": "stderr",
     "output_type": "stream",
     "text": [
      "/Users/sangyongjia/anaconda3/lib/python3.7/site-packages/ipykernel_launcher.py:57: SettingWithCopyWarning: \n",
      "A value is trying to be set on a copy of a slice from a DataFrame.\n",
      "Try using .loc[row_indexer,col_indexer] = value instead\n",
      "\n",
      "See the caveats in the documentation: http://pandas.pydata.org/pandas-docs/stable/indexing.html#indexing-view-versus-copy\n",
      "/Users/sangyongjia/anaconda3/lib/python3.7/site-packages/ipykernel_launcher.py:58: SettingWithCopyWarning: \n",
      "A value is trying to be set on a copy of a slice from a DataFrame.\n",
      "Try using .loc[row_indexer,col_indexer] = value instead\n",
      "\n",
      "See the caveats in the documentation: http://pandas.pydata.org/pandas-docs/stable/indexing.html#indexing-view-versus-copy\n",
      "/Users/sangyongjia/anaconda3/lib/python3.7/site-packages/pandas/core/frame.py:3781: SettingWithCopyWarning: \n",
      "A value is trying to be set on a copy of a slice from a DataFrame\n",
      "\n",
      "See the caveats in the documentation: http://pandas.pydata.org/pandas-docs/stable/indexing.html#indexing-view-versus-copy\n",
      "  return super(DataFrame, self).rename(**kwargs)\n"
     ]
    },
    {
     "name": "stdout",
     "output_type": "stream",
     "text": [
      "valid_data_set_uiclfc  shape: (636850, 142)\n",
      "valid data label=1: (486, 142)\n",
      "valid data label=0: (636364, 142)\n",
      "train and valid data is generated.\n",
      "      Iter       Train Loss      OOB Improve   Remaining Time \n",
      "         1           0.1190           0.0184            7.08m\n",
      "         2           0.1133           0.0039            8.68m\n",
      "         3           0.1084           0.0028            9.02m\n",
      "         4           0.1049           0.0023            8.48m\n",
      "         5           0.1002           0.0020            9.00m\n",
      "         6           0.0963           0.0017            9.19m\n",
      "         7           0.0945           0.0014            8.89m\n",
      "         8           0.0912           0.0013            8.99m\n",
      "         9           0.0885           0.0012            9.02m\n",
      "        10           0.0861           0.0009            8.98m\n",
      "        20           0.0725           0.0003            8.27m\n",
      "        30           0.0631           0.0001            7.66m\n",
      "        40           0.0558           0.0001            6.89m\n",
      "        50           0.0504           0.0000            6.18m\n",
      "        60           0.0470           0.0000            5.48m\n",
      "        70           0.0444           0.0000            4.78m\n",
      "        80           0.0407           0.0000            4.11m\n",
      "        90           0.0391          -0.0000            3.45m\n",
      "       100           0.0376          -0.0000            2.81m\n",
      "modle_gbdt [NP ratio = 70] is fitted\n",
      "time used 672 s\n"
     ]
    },
    {
     "name": "stderr",
     "output_type": "stream",
     "text": [
      "/Users/sangyongjia/anaconda3/lib/python3.7/site-packages/pandas/io/parsers.py:678: UserWarning: Duplicate names specified. This will raise an error in the future.\n",
      "  return _read(filepath_or_buffer, kwds)\n"
     ]
    },
    {
     "name": "stdout",
     "output_type": "stream",
     "text": [
      "train_data_set_uiclfc_np shape: (385990, 142) np_ratio: 80\n",
      "train data label=1: (4604, 142)\n",
      "train data label=0: (381386, 142)\n"
     ]
    },
    {
     "name": "stderr",
     "output_type": "stream",
     "text": [
      "/Users/sangyongjia/anaconda3/lib/python3.7/site-packages/ipykernel_launcher.py:57: SettingWithCopyWarning: \n",
      "A value is trying to be set on a copy of a slice from a DataFrame.\n",
      "Try using .loc[row_indexer,col_indexer] = value instead\n",
      "\n",
      "See the caveats in the documentation: http://pandas.pydata.org/pandas-docs/stable/indexing.html#indexing-view-versus-copy\n",
      "/Users/sangyongjia/anaconda3/lib/python3.7/site-packages/ipykernel_launcher.py:58: SettingWithCopyWarning: \n",
      "A value is trying to be set on a copy of a slice from a DataFrame.\n",
      "Try using .loc[row_indexer,col_indexer] = value instead\n",
      "\n",
      "See the caveats in the documentation: http://pandas.pydata.org/pandas-docs/stable/indexing.html#indexing-view-versus-copy\n",
      "/Users/sangyongjia/anaconda3/lib/python3.7/site-packages/pandas/core/frame.py:3781: SettingWithCopyWarning: \n",
      "A value is trying to be set on a copy of a slice from a DataFrame\n",
      "\n",
      "See the caveats in the documentation: http://pandas.pydata.org/pandas-docs/stable/indexing.html#indexing-view-versus-copy\n",
      "  return super(DataFrame, self).rename(**kwargs)\n"
     ]
    },
    {
     "name": "stdout",
     "output_type": "stream",
     "text": [
      "valid_data_set_uiclfc  shape: (636115, 142)\n",
      "valid data label=1: (516, 142)\n",
      "valid data label=0: (635599, 142)\n",
      "train and valid data is generated.\n",
      "      Iter       Train Loss      OOB Improve   Remaining Time \n",
      "         1           0.1049           0.0144           11.68m\n",
      "         2           0.1015           0.0030           12.93m\n",
      "         3           0.0964           0.0026           12.28m\n",
      "         4           0.0910           0.0020           12.42m\n",
      "         5           0.0892           0.0015           12.16m\n",
      "         6           0.0861           0.0014           12.08m\n",
      "         7           0.0844           0.0011           11.68m\n",
      "         8           0.0812           0.0010           11.56m\n",
      "         9           0.0797           0.0010           11.50m\n",
      "        10           0.0776           0.0009           11.23m\n",
      "        20           0.0636           0.0003           10.45m\n",
      "        30           0.0548           0.0001            9.55m\n",
      "        40           0.0499           0.0000            8.54m\n",
      "        50           0.0453           0.0000            7.52m\n",
      "        60           0.0421          -0.0000            6.62m\n",
      "        70           0.0388           0.0000            5.81m\n",
      "        80           0.0368           0.0000            5.00m\n",
      "        90           0.0344          -0.0000            4.18m\n",
      "       100           0.0322          -0.0000            3.40m\n",
      "modle_gbdt [NP ratio = 80] is fitted\n",
      "time used 742 s\n"
     ]
    },
    {
     "name": "stderr",
     "output_type": "stream",
     "text": [
      "/Users/sangyongjia/anaconda3/lib/python3.7/site-packages/pandas/io/parsers.py:678: UserWarning: Duplicate names specified. This will raise an error in the future.\n",
      "  return _read(filepath_or_buffer, kwds)\n"
     ]
    },
    {
     "name": "stdout",
     "output_type": "stream",
     "text": [
      "train_data_set_uiclfc_np shape: (433619, 142) np_ratio: 90\n",
      "train data label=1: (4615, 142)\n",
      "train data label=0: (429004, 142)\n"
     ]
    },
    {
     "name": "stderr",
     "output_type": "stream",
     "text": [
      "/Users/sangyongjia/anaconda3/lib/python3.7/site-packages/ipykernel_launcher.py:57: SettingWithCopyWarning: \n",
      "A value is trying to be set on a copy of a slice from a DataFrame.\n",
      "Try using .loc[row_indexer,col_indexer] = value instead\n",
      "\n",
      "See the caveats in the documentation: http://pandas.pydata.org/pandas-docs/stable/indexing.html#indexing-view-versus-copy\n",
      "/Users/sangyongjia/anaconda3/lib/python3.7/site-packages/ipykernel_launcher.py:58: SettingWithCopyWarning: \n",
      "A value is trying to be set on a copy of a slice from a DataFrame.\n",
      "Try using .loc[row_indexer,col_indexer] = value instead\n",
      "\n",
      "See the caveats in the documentation: http://pandas.pydata.org/pandas-docs/stable/indexing.html#indexing-view-versus-copy\n",
      "/Users/sangyongjia/anaconda3/lib/python3.7/site-packages/pandas/core/frame.py:3781: SettingWithCopyWarning: \n",
      "A value is trying to be set on a copy of a slice from a DataFrame\n",
      "\n",
      "See the caveats in the documentation: http://pandas.pydata.org/pandas-docs/stable/indexing.html#indexing-view-versus-copy\n",
      "  return super(DataFrame, self).rename(**kwargs)\n"
     ]
    },
    {
     "name": "stdout",
     "output_type": "stream",
     "text": [
      "valid_data_set_uiclfc  shape: (636766, 142)\n",
      "valid data label=1: (505, 142)\n",
      "valid data label=0: (636261, 142)\n",
      "train and valid data is generated.\n",
      "      Iter       Train Loss      OOB Improve   Remaining Time \n",
      "         1           0.0956           0.0142           10.74m\n",
      "         2           0.0917           0.0029           12.78m\n",
      "         3           0.0872           0.0019           13.48m\n",
      "         4           0.0832           0.0017           12.98m\n",
      "         5           0.0814           0.0013           13.22m\n",
      "         6           0.0793           0.0012           12.85m\n",
      "         7           0.0762           0.0010           12.92m\n",
      "         8           0.0743           0.0010           12.89m\n",
      "         9           0.0720           0.0008           12.75m\n",
      "        10           0.0712           0.0007           12.93m\n",
      "        20           0.0574           0.0002           11.82m\n",
      "        30           0.0504           0.0001           10.79m\n",
      "        40           0.0449           0.0001            9.88m\n",
      "        50           0.0405           0.0000            8.95m\n",
      "        60           0.0377          -0.0000            7.88m\n",
      "        70           0.0350           0.0000            6.80m\n",
      "        80           0.0333          -0.0000            5.80m\n",
      "        90           0.0319          -0.0000            4.83m\n",
      "       100           0.0304          -0.0000            3.96m\n",
      "modle_gbdt [NP ratio = 90] is fitted\n",
      "time used 824 s\n"
     ]
    },
    {
     "name": "stderr",
     "output_type": "stream",
     "text": [
      "/Users/sangyongjia/anaconda3/lib/python3.7/site-packages/pandas/io/parsers.py:678: UserWarning: Duplicate names specified. This will raise an error in the future.\n",
      "  return _read(filepath_or_buffer, kwds)\n"
     ]
    },
    {
     "name": "stdout",
     "output_type": "stream",
     "text": [
      "train_data_set_uiclfc_np shape: (481312, 142) np_ratio: 100\n",
      "train data label=1: (4590, 142)\n",
      "train data label=0: (476722, 142)\n"
     ]
    },
    {
     "name": "stderr",
     "output_type": "stream",
     "text": [
      "/Users/sangyongjia/anaconda3/lib/python3.7/site-packages/ipykernel_launcher.py:57: SettingWithCopyWarning: \n",
      "A value is trying to be set on a copy of a slice from a DataFrame.\n",
      "Try using .loc[row_indexer,col_indexer] = value instead\n",
      "\n",
      "See the caveats in the documentation: http://pandas.pydata.org/pandas-docs/stable/indexing.html#indexing-view-versus-copy\n",
      "/Users/sangyongjia/anaconda3/lib/python3.7/site-packages/ipykernel_launcher.py:58: SettingWithCopyWarning: \n",
      "A value is trying to be set on a copy of a slice from a DataFrame.\n",
      "Try using .loc[row_indexer,col_indexer] = value instead\n",
      "\n",
      "See the caveats in the documentation: http://pandas.pydata.org/pandas-docs/stable/indexing.html#indexing-view-versus-copy\n",
      "/Users/sangyongjia/anaconda3/lib/python3.7/site-packages/pandas/core/frame.py:3781: SettingWithCopyWarning: \n",
      "A value is trying to be set on a copy of a slice from a DataFrame\n",
      "\n",
      "See the caveats in the documentation: http://pandas.pydata.org/pandas-docs/stable/indexing.html#indexing-view-versus-copy\n",
      "  return super(DataFrame, self).rename(**kwargs)\n"
     ]
    },
    {
     "name": "stdout",
     "output_type": "stream",
     "text": [
      "valid_data_set_uiclfc  shape: (636020, 142)\n",
      "valid data label=1: (530, 142)\n",
      "valid data label=0: (635490, 142)\n",
      "train and valid data is generated.\n",
      "      Iter       Train Loss      OOB Improve   Remaining Time \n",
      "         1           0.0844           0.0132           13.64m\n",
      "         2           0.0814           0.0020           14.17m\n",
      "         3           0.0782           0.0018           15.31m\n",
      "         4           0.0754           0.0012           15.08m\n",
      "         5           0.0735           0.0012           14.51m\n",
      "         6           0.0715           0.0011           14.32m\n",
      "         7           0.0687           0.0008           14.14m\n",
      "         8           0.0676           0.0008           14.19m\n",
      "         9           0.0666           0.0006           13.88m\n",
      "        10           0.0648           0.0007           14.02m\n",
      "        20           0.0531           0.0002           13.20m\n",
      "        30           0.0472           0.0001           11.97m\n",
      "        40           0.0411           0.0001           10.90m\n",
      "        50           0.0377           0.0000            9.92m\n",
      "        60           0.0346          -0.0000            8.65m\n",
      "        70           0.0333           0.0000            7.55m\n",
      "        80           0.0307          -0.0000            6.46m\n",
      "        90           0.0292           0.0000            5.49m\n",
      "       100           0.0275          -0.0000            4.49m\n",
      "modle_gbdt [NP ratio = 100] is fitted\n",
      "time used 893 s\n"
     ]
    },
    {
     "name": "stderr",
     "output_type": "stream",
     "text": [
      "/Users/sangyongjia/anaconda3/lib/python3.7/site-packages/pandas/io/parsers.py:678: UserWarning: Duplicate names specified. This will raise an error in the future.\n",
      "  return _read(filepath_or_buffer, kwds)\n"
     ]
    },
    {
     "name": "stdout",
     "output_type": "stream",
     "text": [
      "train_data_set_uiclfc_np shape: (576671, 142) np_ratio: 120\n",
      "train data label=1: (4582, 142)\n",
      "train data label=0: (572089, 142)\n"
     ]
    },
    {
     "name": "stderr",
     "output_type": "stream",
     "text": [
      "/Users/sangyongjia/anaconda3/lib/python3.7/site-packages/ipykernel_launcher.py:57: SettingWithCopyWarning: \n",
      "A value is trying to be set on a copy of a slice from a DataFrame.\n",
      "Try using .loc[row_indexer,col_indexer] = value instead\n",
      "\n",
      "See the caveats in the documentation: http://pandas.pydata.org/pandas-docs/stable/indexing.html#indexing-view-versus-copy\n",
      "/Users/sangyongjia/anaconda3/lib/python3.7/site-packages/ipykernel_launcher.py:58: SettingWithCopyWarning: \n",
      "A value is trying to be set on a copy of a slice from a DataFrame.\n",
      "Try using .loc[row_indexer,col_indexer] = value instead\n",
      "\n",
      "See the caveats in the documentation: http://pandas.pydata.org/pandas-docs/stable/indexing.html#indexing-view-versus-copy\n",
      "/Users/sangyongjia/anaconda3/lib/python3.7/site-packages/pandas/core/frame.py:3781: SettingWithCopyWarning: \n",
      "A value is trying to be set on a copy of a slice from a DataFrame\n",
      "\n",
      "See the caveats in the documentation: http://pandas.pydata.org/pandas-docs/stable/indexing.html#indexing-view-versus-copy\n",
      "  return super(DataFrame, self).rename(**kwargs)\n"
     ]
    },
    {
     "name": "stdout",
     "output_type": "stream",
     "text": [
      "valid_data_set_uiclfc  shape: (636017, 142)\n",
      "valid data label=1: (538, 142)\n",
      "valid data label=0: (635479, 142)\n",
      "train and valid data is generated.\n",
      "      Iter       Train Loss      OOB Improve   Remaining Time \n",
      "         1           0.0725           0.0129           21.92m\n",
      "         2           0.0705           0.0015           20.41m\n",
      "         3           0.0678           0.0012           21.20m\n",
      "         4           0.0644           0.0013           19.86m\n",
      "         5           0.0626           0.0009           20.34m\n",
      "         6           0.0609           0.0008           20.34m\n",
      "         7           0.0589           0.0007           20.40m\n",
      "         8           0.0572           0.0006           20.81m\n",
      "         9           0.0557           0.0005           20.89m\n"
     ]
    },
    {
     "ename": "KeyboardInterrupt",
     "evalue": "",
     "output_type": "error",
     "traceback": [
      "\u001b[0;31m---------------------------------------------------------------------------\u001b[0m",
      "\u001b[0;31mKeyboardInterrupt\u001b[0m                         Traceback (most recent call last)",
      "\u001b[0;32m<ipython-input-39-11f02b375bae>\u001b[0m in \u001b[0;36m<module>\u001b[0;34m\u001b[0m\n\u001b[1;32m     23\u001b[0m     \u001b[0mvalid_X\u001b[0m\u001b[0;34m,\u001b[0m \u001b[0mvalid_y\u001b[0m\u001b[0;34m,\u001b[0m \u001b[0mtrain_X\u001b[0m\u001b[0;34m,\u001b[0m \u001b[0mtrain_y\u001b[0m \u001b[0;34m=\u001b[0m \u001b[0mvalid_train_set_construct\u001b[0m\u001b[0;34m(\u001b[0m\u001b[0;36m0.1\u001b[0m\u001b[0;34m,\u001b[0m \u001b[0mnp_ratio\u001b[0m\u001b[0;34m)\u001b[0m\u001b[0;34m\u001b[0m\u001b[0;34m\u001b[0m\u001b[0m\n\u001b[1;32m     24\u001b[0m \u001b[0;34m\u001b[0m\u001b[0m\n\u001b[0;32m---> 25\u001b[0;31m     \u001b[0mmodle_gbdt\u001b[0m\u001b[0;34m.\u001b[0m\u001b[0mfit\u001b[0m\u001b[0;34m(\u001b[0m\u001b[0mtrain_X\u001b[0m\u001b[0;34m,\u001b[0m \u001b[0mtrain_y\u001b[0m\u001b[0;34m)\u001b[0m\u001b[0;34m\u001b[0m\u001b[0;34m\u001b[0m\u001b[0m\n\u001b[0m\u001b[1;32m     26\u001b[0m \u001b[0;34m\u001b[0m\u001b[0m\n\u001b[1;32m     27\u001b[0m     \u001b[0;31m# validation and evaluation\u001b[0m\u001b[0;34m\u001b[0m\u001b[0;34m\u001b[0m\u001b[0;34m\u001b[0m\u001b[0m\n",
      "\u001b[0;32m~/anaconda3/lib/python3.7/site-packages/sklearn/ensemble/gradient_boosting.py\u001b[0m in \u001b[0;36mfit\u001b[0;34m(self, X, y, sample_weight, monitor)\u001b[0m\n\u001b[1;32m   1463\u001b[0m         n_stages = self._fit_stages(X, y, y_pred, sample_weight, self._rng,\n\u001b[1;32m   1464\u001b[0m                                     \u001b[0mX_val\u001b[0m\u001b[0;34m,\u001b[0m \u001b[0my_val\u001b[0m\u001b[0;34m,\u001b[0m \u001b[0msample_weight_val\u001b[0m\u001b[0;34m,\u001b[0m\u001b[0;34m\u001b[0m\u001b[0;34m\u001b[0m\u001b[0m\n\u001b[0;32m-> 1465\u001b[0;31m                                     begin_at_stage, monitor, X_idx_sorted)\n\u001b[0m\u001b[1;32m   1466\u001b[0m \u001b[0;34m\u001b[0m\u001b[0m\n\u001b[1;32m   1467\u001b[0m         \u001b[0;31m# change shape of arrays after fit (early-stopping or additional ests)\u001b[0m\u001b[0;34m\u001b[0m\u001b[0;34m\u001b[0m\u001b[0;34m\u001b[0m\u001b[0m\n",
      "\u001b[0;32m~/anaconda3/lib/python3.7/site-packages/sklearn/ensemble/gradient_boosting.py\u001b[0m in \u001b[0;36m_fit_stages\u001b[0;34m(self, X, y, y_pred, sample_weight, random_state, X_val, y_val, sample_weight_val, begin_at_stage, monitor, X_idx_sorted)\u001b[0m\n\u001b[1;32m   1527\u001b[0m             y_pred = self._fit_stage(i, X, y, y_pred, sample_weight,\n\u001b[1;32m   1528\u001b[0m                                      \u001b[0msample_mask\u001b[0m\u001b[0;34m,\u001b[0m \u001b[0mrandom_state\u001b[0m\u001b[0;34m,\u001b[0m \u001b[0mX_idx_sorted\u001b[0m\u001b[0;34m,\u001b[0m\u001b[0;34m\u001b[0m\u001b[0;34m\u001b[0m\u001b[0m\n\u001b[0;32m-> 1529\u001b[0;31m                                      X_csc, X_csr)\n\u001b[0m\u001b[1;32m   1530\u001b[0m \u001b[0;34m\u001b[0m\u001b[0m\n\u001b[1;32m   1531\u001b[0m             \u001b[0;31m# track deviance (= loss)\u001b[0m\u001b[0;34m\u001b[0m\u001b[0;34m\u001b[0m\u001b[0;34m\u001b[0m\u001b[0m\n",
      "\u001b[0;32m~/anaconda3/lib/python3.7/site-packages/sklearn/ensemble/gradient_boosting.py\u001b[0m in \u001b[0;36m_fit_stage\u001b[0;34m(self, i, X, y, y_pred, sample_weight, sample_mask, random_state, X_idx_sorted, X_csc, X_csr)\u001b[0m\n\u001b[1;32m   1192\u001b[0m             \u001b[0mX\u001b[0m \u001b[0;34m=\u001b[0m \u001b[0mX_csr\u001b[0m \u001b[0;32mif\u001b[0m \u001b[0mX_csr\u001b[0m \u001b[0;32mis\u001b[0m \u001b[0;32mnot\u001b[0m \u001b[0;32mNone\u001b[0m \u001b[0;32melse\u001b[0m \u001b[0mX\u001b[0m\u001b[0;34m\u001b[0m\u001b[0;34m\u001b[0m\u001b[0m\n\u001b[1;32m   1193\u001b[0m             tree.fit(X, residual, sample_weight=sample_weight,\n\u001b[0;32m-> 1194\u001b[0;31m                      check_input=False, X_idx_sorted=X_idx_sorted)\n\u001b[0m\u001b[1;32m   1195\u001b[0m \u001b[0;34m\u001b[0m\u001b[0m\n\u001b[1;32m   1196\u001b[0m             \u001b[0;31m# update tree leaves\u001b[0m\u001b[0;34m\u001b[0m\u001b[0;34m\u001b[0m\u001b[0;34m\u001b[0m\u001b[0m\n",
      "\u001b[0;32m~/anaconda3/lib/python3.7/site-packages/sklearn/tree/tree.py\u001b[0m in \u001b[0;36mfit\u001b[0;34m(self, X, y, sample_weight, check_input, X_idx_sorted)\u001b[0m\n\u001b[1;32m   1140\u001b[0m             \u001b[0msample_weight\u001b[0m\u001b[0;34m=\u001b[0m\u001b[0msample_weight\u001b[0m\u001b[0;34m,\u001b[0m\u001b[0;34m\u001b[0m\u001b[0;34m\u001b[0m\u001b[0m\n\u001b[1;32m   1141\u001b[0m             \u001b[0mcheck_input\u001b[0m\u001b[0;34m=\u001b[0m\u001b[0mcheck_input\u001b[0m\u001b[0;34m,\u001b[0m\u001b[0;34m\u001b[0m\u001b[0;34m\u001b[0m\u001b[0m\n\u001b[0;32m-> 1142\u001b[0;31m             X_idx_sorted=X_idx_sorted)\n\u001b[0m\u001b[1;32m   1143\u001b[0m         \u001b[0;32mreturn\u001b[0m \u001b[0mself\u001b[0m\u001b[0;34m\u001b[0m\u001b[0;34m\u001b[0m\u001b[0m\n\u001b[1;32m   1144\u001b[0m \u001b[0;34m\u001b[0m\u001b[0m\n",
      "\u001b[0;32m~/anaconda3/lib/python3.7/site-packages/sklearn/tree/tree.py\u001b[0m in \u001b[0;36mfit\u001b[0;34m(self, X, y, sample_weight, check_input, X_idx_sorted)\u001b[0m\n\u001b[1;32m    364\u001b[0m                                            min_impurity_split)\n\u001b[1;32m    365\u001b[0m \u001b[0;34m\u001b[0m\u001b[0m\n\u001b[0;32m--> 366\u001b[0;31m         \u001b[0mbuilder\u001b[0m\u001b[0;34m.\u001b[0m\u001b[0mbuild\u001b[0m\u001b[0;34m(\u001b[0m\u001b[0mself\u001b[0m\u001b[0;34m.\u001b[0m\u001b[0mtree_\u001b[0m\u001b[0;34m,\u001b[0m \u001b[0mX\u001b[0m\u001b[0;34m,\u001b[0m \u001b[0my\u001b[0m\u001b[0;34m,\u001b[0m \u001b[0msample_weight\u001b[0m\u001b[0;34m,\u001b[0m \u001b[0mX_idx_sorted\u001b[0m\u001b[0;34m)\u001b[0m\u001b[0;34m\u001b[0m\u001b[0;34m\u001b[0m\u001b[0m\n\u001b[0m\u001b[1;32m    367\u001b[0m \u001b[0;34m\u001b[0m\u001b[0m\n\u001b[1;32m    368\u001b[0m         \u001b[0;32mif\u001b[0m \u001b[0mself\u001b[0m\u001b[0;34m.\u001b[0m\u001b[0mn_outputs_\u001b[0m \u001b[0;34m==\u001b[0m \u001b[0;36m1\u001b[0m\u001b[0;34m:\u001b[0m\u001b[0;34m\u001b[0m\u001b[0;34m\u001b[0m\u001b[0m\n",
      "\u001b[0;31mKeyboardInterrupt\u001b[0m: "
     ]
    }
   ],
   "source": [
    "# (1) selection for best N/P ratio of subsample\n",
    "# generation of gbdt model\n",
    "modle_gbdt = GradientBoostingClassifier(max_depth=12, \n",
    "                                                                  min_samples_leaf=10, \n",
    "                                                                  learning_rate=0.05, \n",
    "                                                                  n_estimators=150,  \n",
    "                                                                  subsample=0.8, \n",
    "                                                                  max_features=\"sqrt\",\n",
    "                                                                  verbose=0,\n",
    "                                                                  n_iter_no_change=50,\n",
    "                                                                  tol=1e-4)\n",
    "    \n",
    "f1_scores = []\n",
    "precision_score = []\n",
    "recall = []\n",
    "np_ratios = []\n",
    "#np_ratio_list = [1,5,10,15,20,25,30,35,40,45,50,60,70,80,90,100,120,150,200,300]\n",
    "np_ratio_list = [1,5,10,15,20,25,30,35,40,45,50,55,60,65,70,75,80]\n",
    "#np_ratio_list = [60,]\n",
    "for np_ratio in np_ratio_list:\n",
    "    t1 = time.time()\n",
    "    # generation of training and valid set\n",
    "    valid_X, valid_y, train_X, train_y = valid_train_set_construct(0.1, np_ratio)\n",
    "    \n",
    "    modle_gbdt.fit(train_X, train_y)\n",
    "    \n",
    "    # validation and evaluation\n",
    "    valid_y_pred = modle_gbdt.predict(valid_X)\n",
    "    \n",
    "    \n",
    "    f1_scores.append(metrics.f1_score(valid_y, valid_y_pred))\n",
    "    precision_score.append(metrics.precision_score(valid_y, valid_y_pred))\n",
    "    recall.append(metrics.recall_score(valid_y, valid_y_pred))\n",
    "    np_ratios.append(np_ratio)\n",
    "    \n",
    "    print('modle_gbdt [NP ratio = %d] is fitted' % np_ratio)\n",
    "    t2 = time.time() \n",
    "    print('time used %d s' % (t2-t1))\n",
    "print('finished')"
   ]
  },
  {
   "cell_type": "code",
   "execution_count": 40,
   "metadata": {},
   "outputs": [
    {
     "data": {
      "image/png": "[encoded data removed]",
      "text/plain": [
       "<Figure size 432x288 with 1 Axes>"
      ]
     },
     "metadata": {
      "needs_background": "light"
     },
     "output_type": "display_data"
    }
   ],
   "source": [
    "# plot the result\n",
    "f1 = plt.figure(1)\n",
    "plt.plot(np_ratios, f1_scores, label=\"lr=0.05,nt=200,md=7,sub=0.8,sqrt\")\n",
    "plt.xlabel('NP ratio')\n",
    "plt.ylabel('f1_score')\n",
    "plt.title('f1_score as function of NP ratio - GBDT')\n",
    "plt.legend(loc=4)\n",
    "plt.grid(True, linewidth=0.5)\n",
    "plt.show()"
   ]
  },
  {
   "cell_type": "raw",
   "metadata": {},
   "source": []
  },
  {
   "cell_type": "code",
   "execution_count": 41,
   "metadata": {},
   "outputs": [
    {
     "data": {
      "image/png": "[encoded data removed]",
      "text/plain": [
       "<Figure size 432x288 with 1 Axes>"
      ]
     },
     "metadata": {
      "needs_background": "light"
     },
     "output_type": "display_data"
    }
   ],
   "source": [
    "# plot the result\n",
    "f1 = plt.figure(1)\n",
    "plt.plot(np_ratios, precision_score, label=\"lr=0.05,nt=200,md=7,sub=0.8,sqrt\")\n",
    "plt.xlabel('NP ratio')\n",
    "plt.ylabel('precision_score')\n",
    "plt.title('precision_score as function of NP ratio - GBDT')\n",
    "plt.legend(loc=4)\n",
    "plt.grid(True, linewidth=0.5)\n",
    "plt.show()"
   ]
  },
  {
   "cell_type": "code",
   "execution_count": 42,
   "metadata": {},
   "outputs": [
    {
     "name": "stderr",
     "output_type": "stream",
     "text": [
      "No handles with labels found to put in legend.\n"
     ]
    },
    {
     "data": {
      "image/png": "[encoded data removed]",
      "text/plain": [
       "<Figure size 432x288 with 1 Axes>"
      ]
     },
     "metadata": {
      "needs_background": "light"
     },
     "output_type": "display_data"
    }
   ],
   "source": [
    "# plot the result\n",
    "f1 = plt.figure(1)\n",
    "plt.plot(np_ratios, recall)\n",
    "plt.xlabel('NP ratio')\n",
    "plt.ylabel('recall')\n",
    "plt.title('recall as function of NP ratio - GBDT')\n",
    "plt.legend(loc=4)\n",
    "plt.grid(True, linewidth=0.5)\n",
    "plt.show()"
   ]
  },
  {
   "cell_type": "code",
   "execution_count": 46,
   "metadata": {},
   "outputs": [
    {
     "name": "stderr",
     "output_type": "stream",
     "text": [
      "/Users/sangyongjia/anaconda3/lib/python3.7/site-packages/pandas/io/parsers.py:678: UserWarning: Duplicate names specified. This will raise an error in the future.\n",
      "  return _read(filepath_or_buffer, kwds)\n"
     ]
    },
    {
     "name": "stdout",
     "output_type": "stream",
     "text": [
      "train_data_set_uiclfc_np shape: (386054, 142) np_ratio: 80\n",
      "train data label=1: (4654, 142)\n",
      "train data label=0: (381400, 142)\n"
     ]
    },
    {
     "name": "stderr",
     "output_type": "stream",
     "text": [
      "/Users/sangyongjia/anaconda3/lib/python3.7/site-packages/ipykernel_launcher.py:57: SettingWithCopyWarning: \n",
      "A value is trying to be set on a copy of a slice from a DataFrame.\n",
      "Try using .loc[row_indexer,col_indexer] = value instead\n",
      "\n",
      "See the caveats in the documentation: http://pandas.pydata.org/pandas-docs/stable/indexing.html#indexing-view-versus-copy\n",
      "/Users/sangyongjia/anaconda3/lib/python3.7/site-packages/ipykernel_launcher.py:58: SettingWithCopyWarning: \n",
      "A value is trying to be set on a copy of a slice from a DataFrame.\n",
      "Try using .loc[row_indexer,col_indexer] = value instead\n",
      "\n",
      "See the caveats in the documentation: http://pandas.pydata.org/pandas-docs/stable/indexing.html#indexing-view-versus-copy\n",
      "/Users/sangyongjia/anaconda3/lib/python3.7/site-packages/pandas/core/frame.py:3781: SettingWithCopyWarning: \n",
      "A value is trying to be set on a copy of a slice from a DataFrame\n",
      "\n",
      "See the caveats in the documentation: http://pandas.pydata.org/pandas-docs/stable/indexing.html#indexing-view-versus-copy\n",
      "  return super(DataFrame, self).rename(**kwargs)\n"
     ]
    },
    {
     "name": "stdout",
     "output_type": "stream",
     "text": [
      "valid_data_set_uiclfc  shape: (635763, 142)\n",
      "valid data label=1: (466, 142)\n",
      "valid data label=0: (635297, 142)\n",
      "train and valid data is generated.\n",
      "      Iter       Train Loss      OOB Improve   Remaining Time \n",
      "         1           0.1132           0.0132           11.58s\n",
      "         2           0.1100           0.0037           10.20s\n",
      "         3           0.1084           0.0025            9.20s\n",
      "         4           0.1046           0.0023            7.92s\n",
      "         5           0.1019           0.0017            6.53s\n",
      "         6           0.1006           0.0016            5.27s\n",
      "         7           0.0986           0.0014            3.96s\n",
      "         8           0.0963           0.0013            2.64s\n",
      "         9           0.0937           0.0010            1.33s\n",
      "        10           0.0932           0.0009            0.00s\n",
      "GBDT_clf [lr = 0.05, nt = 10] is fitted\n",
      "time used 17 s\n",
      "      Iter       Train Loss      OOB Improve   Remaining Time \n",
      "         1           0.1112           0.0161           25.58s\n",
      "         2           0.1075           0.0038           25.28s\n",
      "         3           0.1049           0.0027           23.24s\n",
      "         4           0.1030           0.0021           22.20s\n",
      "         5           0.1003           0.0017           21.18s\n",
      "         6           0.0987           0.0016           19.52s\n",
      "         7           0.0968           0.0013           18.02s\n",
      "         8           0.0939           0.0012           16.84s\n",
      "         9           0.0940           0.0010           15.33s\n",
      "        10           0.0916           0.0008           13.80s\n",
      "        20           0.0854           0.0003            0.00s\n",
      "GBDT_clf [lr = 0.05, nt = 20] is fitted\n",
      "time used 35 s\n",
      "      Iter       Train Loss      OOB Improve   Remaining Time \n",
      "         1           0.1130           0.0142           32.98s\n",
      "         2           0.1094           0.0035           32.60s\n",
      "         3           0.1064           0.0026           33.43s\n",
      "         4           0.1037           0.0022           33.17s\n",
      "         5           0.1006           0.0018           31.35s\n",
      "         6           0.0989           0.0015           31.16s\n",
      "         7           0.0982           0.0014           29.84s\n",
      "         8           0.0957           0.0013           30.82s\n",
      "         9           0.0953           0.0010           31.30s\n",
      "        10           0.0928           0.0009           30.38s\n",
      "        20           0.0844           0.0003           15.58s\n",
      "        30           0.0795           0.0002            0.00s\n",
      "GBDT_clf [lr = 0.05, nt = 30] is fitted\n",
      "time used 49 s\n",
      "      Iter       Train Loss      OOB Improve   Remaining Time \n",
      "         1           0.1134           0.0138            1.30m\n",
      "         2           0.1092           0.0039            1.05m\n",
      "         3           0.1059           0.0027           58.04s\n",
      "         4           0.1045           0.0025           55.67s\n",
      "         5           0.1028           0.0019           51.96s\n",
      "         6           0.0998           0.0014           49.34s\n",
      "         7           0.0968           0.0015           47.81s\n",
      "         8           0.0963           0.0011           45.55s\n",
      "         9           0.0933           0.0011           44.21s\n",
      "        10           0.0924           0.0010           42.86s\n",
      "        20           0.0837           0.0004           27.89s\n",
      "        30           0.0798           0.0002           13.45s\n",
      "        40           0.0760           0.0001            0.00s\n",
      "GBDT_clf [lr = 0.05, nt = 40] is fitted\n",
      "time used 58 s\n",
      "      Iter       Train Loss      OOB Improve   Remaining Time \n",
      "         1           0.1128           0.0139            1.42m\n",
      "         2           0.1086           0.0035            1.57m\n",
      "         3           0.1065           0.0025            1.35m\n",
      "         4           0.1028           0.0022            1.27m\n",
      "         5           0.1006           0.0019            1.20m\n",
      "         6           0.1003           0.0015            1.16m\n",
      "         7           0.0964           0.0014            1.10m\n",
      "         8           0.0949           0.0011            1.05m\n",
      "         9           0.0939           0.0010            1.02m\n",
      "        10           0.0930           0.0009           58.32s\n",
      "        20           0.0824           0.0004           41.72s\n",
      "        30           0.0781           0.0002           27.06s\n",
      "        40           0.0756           0.0001           13.45s\n",
      "        50           0.0730           0.0001            0.00s\n",
      "GBDT_clf [lr = 0.05, nt = 50] is fitted\n",
      "time used 71 s\n",
      "      Iter       Train Loss      OOB Improve   Remaining Time \n",
      "         1           0.1132           0.0151            1.30m\n",
      "         2           0.1089           0.0036            1.27m\n",
      "         3           0.1051           0.0028            1.30m\n",
      "         4           0.1024           0.0022            1.27m\n",
      "         5           0.1011           0.0017            1.23m\n",
      "         6           0.0971           0.0016            1.19m\n",
      "         7           0.0966           0.0014            1.16m\n",
      "         8           0.0932           0.0011            1.12m\n",
      "         9           0.0942           0.0009            1.11m\n",
      "        10           0.0926           0.0010            1.09m\n",
      "        20           0.0830           0.0004           51.44s\n",
      "        30           0.0792           0.0002           38.49s\n",
      "        40           0.0763           0.0001           25.09s\n",
      "        50           0.0725           0.0000           12.40s\n",
      "        60           0.0717           0.0000            0.00s\n",
      "GBDT_clf [lr = 0.05, nt = 60] is fitted\n",
      "time used 79 s\n",
      "      Iter       Train Loss      OOB Improve   Remaining Time \n",
      "         1           0.1136           0.0144            1.44m\n",
      "         2           0.1087           0.0036            1.33m\n",
      "         3           0.1061           0.0029            1.37m\n",
      "         4           0.1042           0.0022            1.39m\n",
      "         5           0.1019           0.0017            1.38m\n",
      "         6           0.0992           0.0016            1.42m\n",
      "         7           0.0972           0.0014            1.40m\n",
      "         8           0.0957           0.0012            1.36m\n",
      "         9           0.0940           0.0009            1.36m\n",
      "        10           0.0938           0.0009            1.31m\n",
      "        20           0.0850           0.0003            1.18m\n",
      "        30           0.0783           0.0002           59.27s\n",
      "        40           0.0753           0.0001           43.69s\n",
      "        50           0.0739           0.0001           27.96s\n",
      "        60           0.0729           0.0000           13.57s\n",
      "        70           0.0700           0.0000            0.00s\n",
      "GBDT_clf [lr = 0.05, nt = 70] is fitted\n",
      "time used 97 s\n",
      "      Iter       Train Loss      OOB Improve   Remaining Time \n",
      "         1           0.1143           0.0156            1.66m\n",
      "         2           0.1106           0.0043            1.62m\n",
      "         3           0.1068           0.0030            1.69m\n",
      "         4           0.1043           0.0021            1.63m\n",
      "         5           0.1004           0.0019            1.62m\n",
      "         6           0.0988           0.0016            1.62m\n",
      "         7           0.0971           0.0014            1.60m\n",
      "         8           0.0958           0.0013            1.58m\n",
      "         9           0.0941           0.0011            1.58m\n",
      "        10           0.0936           0.0009            1.55m\n",
      "        20           0.0834           0.0004            1.34m\n",
      "        30           0.0787           0.0002            1.12m\n",
      "        40           0.0757           0.0001           52.87s\n",
      "        50           0.0739           0.0000           38.95s\n",
      "        60           0.0714           0.0000           25.45s\n",
      "        70           0.0706          -0.0000           12.35s\n",
      "        80           0.0697           0.0000            0.00s\n",
      "GBDT_clf [lr = 0.05, nt = 80] is fitted\n",
      "time used 103 s\n",
      "      Iter       Train Loss      OOB Improve   Remaining Time \n",
      "         1           0.1127           0.0147            1.86m\n",
      "         2           0.1084           0.0033            1.93m\n",
      "         3           0.1063           0.0027            1.93m\n",
      "         4           0.1035           0.0022            1.91m\n",
      "         5           0.1005           0.0018            1.87m\n",
      "         6           0.0991           0.0015            1.81m\n"
     ]
    },
    {
     "name": "stdout",
     "output_type": "stream",
     "text": [
      "         7           0.0972           0.0014            1.80m\n",
      "         8           0.0950           0.0013            1.77m\n",
      "         9           0.0937           0.0011            1.74m\n",
      "        10           0.0927           0.0009            1.74m\n",
      "        20           0.0846           0.0003            1.52m\n",
      "        30           0.0791           0.0002            1.29m\n",
      "        40           0.0758           0.0001            1.05m\n",
      "        50           0.0736           0.0001           49.45s\n",
      "        60           0.0721           0.0000           36.41s\n",
      "        70           0.0708           0.0000           24.03s\n",
      "        80           0.0693           0.0000           11.72s\n",
      "        90           0.0679          -0.0000            0.00s\n",
      "GBDT_clf [lr = 0.05, nt = 90] is fitted\n",
      "time used 109 s\n",
      "      Iter       Train Loss      OOB Improve   Remaining Time \n",
      "         1           0.1129           0.0156            2.17m\n",
      "         2           0.1100           0.0030            2.05m\n",
      "         3           0.1051           0.0025            2.00m\n",
      "         4           0.1032           0.0020            2.05m\n",
      "         5           0.1022           0.0017            2.05m\n",
      "         6           0.0988           0.0017            2.04m\n",
      "         7           0.0973           0.0013            2.02m\n",
      "         8           0.0953           0.0012            2.01m\n",
      "         9           0.0930           0.0011            2.00m\n",
      "        10           0.0919           0.0009            1.97m\n",
      "        20           0.0842           0.0004            1.72m\n",
      "        30           0.0791           0.0002            1.48m\n",
      "        40           0.0763           0.0001            1.24m\n",
      "        50           0.0736           0.0000            1.03m\n",
      "        60           0.0716           0.0000           48.94s\n",
      "        70           0.0699           0.0000           35.97s\n",
      "        80           0.0697           0.0000           23.47s\n",
      "        90           0.0681          -0.0000           11.54s\n",
      "       100           0.0676          -0.0000            0.00s\n",
      "GBDT_clf [lr = 0.05, nt = 100] is fitted\n",
      "time used 119 s\n",
      "      Iter       Train Loss      OOB Improve   Remaining Time \n",
      "         1           0.1152           0.0137            2.87m\n",
      "         2           0.1097           0.0037            2.73m\n",
      "         3           0.1063           0.0028            2.73m\n",
      "         4           0.1035           0.0022            2.68m\n",
      "         5           0.1008           0.0020            2.56m\n",
      "         6           0.0996           0.0014            2.52m\n",
      "         7           0.0962           0.0016            2.49m\n",
      "         8           0.0952           0.0013            2.45m\n",
      "         9           0.0943           0.0008            2.42m\n",
      "        10           0.0929           0.0010            2.40m\n",
      "        20           0.0851           0.0004            2.18m\n",
      "        30           0.0797           0.0002            1.94m\n",
      "        40           0.0768           0.0001            1.69m\n",
      "        50           0.0739           0.0000            1.46m\n",
      "        60           0.0712           0.0000            1.23m\n",
      "        70           0.0704           0.0000           60.00s\n",
      "        80           0.0703           0.0000           47.20s\n",
      "        90           0.0684          -0.0000           34.53s\n",
      "       100           0.0680          -0.0000           22.49s\n",
      "GBDT_clf [lr = 0.05, nt = 120] is fitted\n",
      "time used 137 s\n",
      "      Iter       Train Loss      OOB Improve   Remaining Time \n",
      "         1           0.1138           0.0149            3.40m\n",
      "         2           0.1094           0.0039            3.24m\n",
      "         3           0.1058           0.0028            3.25m\n",
      "         4           0.1026           0.0023            3.27m\n",
      "         5           0.1010           0.0019            3.12m\n",
      "         6           0.0988           0.0015            3.14m\n",
      "         7           0.0961           0.0015            3.14m\n",
      "         8           0.0952           0.0013            3.12m\n",
      "         9           0.0949           0.0010            3.05m\n",
      "        10           0.0934           0.0008            3.02m\n",
      "        20           0.0847           0.0004            2.80m\n",
      "        30           0.0796           0.0002            2.53m\n",
      "        40           0.0771           0.0001            2.30m\n",
      "        50           0.0743           0.0001            2.04m\n",
      "        60           0.0711           0.0000            1.81m\n",
      "        70           0.0703           0.0000            1.57m\n",
      "        80           0.0701           0.0000            1.34m\n",
      "        90           0.0687          -0.0000            1.12m\n",
      "       100           0.0674          -0.0000           55.40s\n",
      "GBDT_clf [lr = 0.05, nt = 150] is fitted\n",
      "time used 163 s\n",
      "      Iter       Train Loss      OOB Improve   Remaining Time \n",
      "         1           0.1134           0.0149            4.14m\n",
      "         2           0.1102           0.0036            3.88m\n",
      "         3           0.1058           0.0030            3.88m\n",
      "         4           0.1037           0.0023            3.94m\n",
      "         5           0.1002           0.0018            3.96m\n",
      "         6           0.0987           0.0017            3.88m\n",
      "         7           0.0977           0.0012            3.81m\n",
      "         8           0.0950           0.0013            3.75m\n",
      "         9           0.0939           0.0010            3.66m\n",
      "        10           0.0933           0.0009            3.65m\n",
      "        20           0.0843           0.0004            3.33m\n",
      "        30           0.0797           0.0002            3.13m\n",
      "        40           0.0765           0.0001            2.89m\n",
      "        50           0.0743           0.0000            2.67m\n",
      "        60           0.0721           0.0000            2.42m\n",
      "        70           0.0699           0.0000            2.17m\n",
      "        80           0.0690          -0.0000            1.93m\n",
      "        90           0.0679           0.0000            1.69m\n",
      "       100           0.0678           0.0000            1.49m\n",
      "GBDT_clf [lr = 0.05, nt = 180] is fitted\n",
      "time used 195 s\n",
      "      Iter       Train Loss      OOB Improve   Remaining Time \n",
      "         1           0.1129           0.0152            5.39m\n",
      "         2           0.1084           0.0038            5.23m\n",
      "         3           0.1060           0.0026            5.29m\n",
      "         4           0.1021           0.0022            5.15m\n",
      "         5           0.1010           0.0017            5.17m\n",
      "         6           0.0994           0.0015            5.18m\n",
      "         7           0.0973           0.0012            5.12m\n",
      "         8           0.0951           0.0013            5.13m\n",
      "         9           0.0933           0.0010            5.17m\n",
      "        10           0.0928           0.0009            5.14m\n",
      "        20           0.0850           0.0004            4.82m\n",
      "        30           0.0798           0.0002            4.52m\n",
      "        40           0.0767           0.0001            4.26m\n",
      "        50           0.0736           0.0000            3.97m\n",
      "        60           0.0725           0.0000            3.68m\n",
      "        70           0.0704           0.0000            3.39m\n",
      "        80           0.0698           0.0001            3.14m\n",
      "        90           0.0690           0.0000            2.86m\n",
      "       100           0.0679           0.0000            2.62m\n",
      "       200           0.0615          -0.0000           40.55s\n",
      "GBDT_clf [lr = 0.05, nt = 240] is fitted\n",
      "time used 249 s\n",
      "      Iter       Train Loss      OOB Improve   Remaining Time \n",
      "         1           0.1128           0.0150            6.07m\n",
      "         2           0.1096           0.0033            5.94m\n",
      "         3           0.1061           0.0027            5.73m\n",
      "         4           0.1031           0.0019            5.64m\n",
      "         5           0.1004           0.0020            5.69m\n",
      "         6           0.0984           0.0015            5.77m\n",
      "         7           0.0980           0.0013            5.74m\n",
      "         8           0.0958           0.0012            5.71m\n",
      "         9           0.0941           0.0010            5.71m\n",
      "        10           0.0932           0.0010            5.81m\n",
      "        20           0.0842           0.0004            6.00m\n",
      "        30           0.0793           0.0002            5.65m\n",
      "        40           0.0750           0.0001            5.39m\n"
     ]
    },
    {
     "name": "stdout",
     "output_type": "stream",
     "text": [
      "        50           0.0739           0.0001            5.17m\n",
      "        60           0.0725           0.0000            4.81m\n",
      "        70           0.0707           0.0000            4.50m\n",
      "        80           0.0687           0.0000            4.23m\n",
      "        90           0.0687          -0.0000            3.95m\n",
      "       100           0.0676           0.0000            3.69m\n",
      "       200           0.0608          -0.0000            1.66m\n",
      "       300           0.0539           0.0000            0.00s\n",
      "GBDT_clf [lr = 0.05, nt = 300] is fitted\n",
      "time used 306 s\n",
      "      Iter       Train Loss      OOB Improve   Remaining Time \n",
      "         1           0.1131           0.0144            9.93m\n",
      "         2           0.1098           0.0035            8.76m\n",
      "         3           0.1056           0.0029            8.79m\n",
      "         4           0.1036           0.0023            8.97m\n",
      "         5           0.1016           0.0018            8.68m\n",
      "         6           0.0983           0.0016            8.51m\n",
      "         7           0.0972           0.0012            8.50m\n",
      "         8           0.0951           0.0013            8.42m\n",
      "         9           0.0942           0.0011            8.32m\n",
      "        10           0.0930           0.0009            8.36m\n",
      "        20           0.0838           0.0003            8.23m\n",
      "        30           0.0796           0.0002            7.91m\n",
      "        40           0.0756           0.0001            7.65m\n",
      "        50           0.0734           0.0001            7.33m\n",
      "        60           0.0718           0.0000            7.05m\n",
      "        70           0.0700           0.0000            6.65m\n",
      "        80           0.0702           0.0000            6.29m\n",
      "        90           0.0680          -0.0000            5.92m\n",
      "       100           0.0681           0.0000            5.60m\n",
      "       200           0.0602           0.0000            3.36m\n",
      "       300           0.0543          -0.0000            1.65m\n",
      "       400           0.0490          -0.0000            0.00s\n",
      "GBDT_clf [lr = 0.05, nt = 400] is fitted\n",
      "time used 413 s\n"
     ]
    },
    {
     "data": {
      "image/png": "[encoded data removed]",
      "text/plain": [
       "<Figure size 432x288 with 1 Axes>"
      ]
     },
     "metadata": {
      "needs_background": "light"
     },
     "output_type": "display_data"
    }
   ],
   "source": [
    "# (2) selection for best n_estimators and learning_rate of GBDT\n",
    "# training and validating data set generation\n",
    "valid_X, valid_y, train_X, train_y = valid_train_set_construct(0.1, 80) #30,65,50\n",
    "learning_rates = []\n",
    "f1_matrix = []\n",
    "#[0.05, 0.1, 0.15, 0.2]\n",
    "#nts = [10,20,30,40,50,60,70,80,90,100,120,150,180,240,300,400]\n",
    "#nts = [10,20,30,40,50,60,70,80,90,100,120,150,180,240,300,400]\n",
    "for lr in [0.05,]:\n",
    "    n_trees = []\n",
    "    f1_scores = []\n",
    "    for nt in [10,20,30,40,50,60,70,80,90,100,120,150,180,240,300,400]:\n",
    "        t1 = time.time()\n",
    "        # generation of training and valid set\n",
    "        \n",
    "        # generation of GBDT model and fit\n",
    "        modle_gbdt = GradientBoostingClassifier(max_depth=8, \n",
    "                                                                  min_samples_leaf=10, \n",
    "                                                                  learning_rate=lr, \n",
    "                                                                  n_estimators=nt,  \n",
    "                                                                  subsample=0.8, \n",
    "                                                                  max_features=\"sqrt\",\n",
    "                                                                  verbose=1,\n",
    "                                                                  n_iter_no_change=None,\n",
    "                                                                  tol=1e-4)\n",
    "        \n",
    "        modle_gbdt.fit(train_X, train_y)\n",
    "        \n",
    "        # validation and evaluation\n",
    "        valid_y_pred = modle_gbdt.predict(valid_X)\n",
    "        f1_scores.append(metrics.f1_score(valid_y, valid_y_pred))\n",
    "        n_trees.append(nt)\n",
    "        \n",
    "        print('GBDT_clf [lr = %.2f, nt = %d] is fitted' % (lr, nt))\n",
    "        t2 = time.time() \n",
    "        print('time used %d s' % (t2-t1))\n",
    "        \n",
    "    f1_matrix.append(f1_scores)\n",
    "    learning_rates.append(lr)\n",
    "    \n",
    "# plot the result\n",
    "f1 = plt.figure(1)\n",
    "i = 0\n",
    "for f1_scores in f1_matrix:\n",
    "    plt.plot(n_trees, f1_scores, label=\"lr=%.2f\" % learning_rates[i])\n",
    "    i += 1\n",
    "    \n",
    "plt.xlabel('n_trees')\n",
    "plt.ylabel('f1_score')\n",
    "plt.title('f1_score as function of GBDT lr & nt (np=30,md=7)')\n",
    "plt.legend(loc=4)\n",
    "plt.grid(True, linewidth=0.3)\n",
    "plt.show()\n"
   ]
  },
  {
   "cell_type": "code",
   "execution_count": 38,
   "metadata": {},
   "outputs": [
    {
     "name": "stderr",
     "output_type": "stream",
     "text": [
      "/Users/sangyongjia/anaconda3/lib/python3.7/site-packages/pandas/io/parsers.py:678: UserWarning: Duplicate names specified. This will raise an error in the future.\n",
      "  return _read(filepath_or_buffer, kwds)\n"
     ]
    },
    {
     "name": "stdout",
     "output_type": "stream",
     "text": [
      "train_data_set_uiclfc_np shape: (214266, 142) np_ratio: 80\n",
      "train data label=1: (2614, 142)\n",
      "train data label=0: (211652, 142)\n"
     ]
    },
    {
     "name": "stderr",
     "output_type": "stream",
     "text": [
      "/Users/sangyongjia/anaconda3/lib/python3.7/site-packages/ipykernel_launcher.py:57: SettingWithCopyWarning: \n",
      "A value is trying to be set on a copy of a slice from a DataFrame.\n",
      "Try using .loc[row_indexer,col_indexer] = value instead\n",
      "\n",
      "See the caveats in the documentation: http://pandas.pydata.org/pandas-docs/stable/indexing.html#indexing-view-versus-copy\n",
      "/Users/sangyongjia/anaconda3/lib/python3.7/site-packages/ipykernel_launcher.py:58: SettingWithCopyWarning: \n",
      "A value is trying to be set on a copy of a slice from a DataFrame.\n",
      "Try using .loc[row_indexer,col_indexer] = value instead\n",
      "\n",
      "See the caveats in the documentation: http://pandas.pydata.org/pandas-docs/stable/indexing.html#indexing-view-versus-copy\n",
      "/Users/sangyongjia/anaconda3/lib/python3.7/site-packages/pandas/core/frame.py:3781: SettingWithCopyWarning: \n",
      "A value is trying to be set on a copy of a slice from a DataFrame\n",
      "\n",
      "See the caveats in the documentation: http://pandas.pydata.org/pandas-docs/stable/indexing.html#indexing-view-versus-copy\n",
      "  return super(DataFrame, self).rename(**kwargs)\n"
     ]
    },
    {
     "name": "stdout",
     "output_type": "stream",
     "text": [
      "valid_data_set_uiclfc  shape: (352982, 142)\n",
      "valid data label=1: (269, 142)\n",
      "valid data label=0: (352713, 142)\n",
      "train and valid data is generated.\n",
      "      Iter       Train Loss      OOB Improve   Remaining Time \n",
      "         1           0.1277           0.0028           27.73s\n",
      "         2           0.1288           0.0009           23.16s\n",
      "         3           0.1235           0.0051           20.98s\n",
      "         4           0.1204           0.0034           19.63s\n",
      "         5           0.1192           0.0018           18.83s\n",
      "         6           0.1146           0.0026           18.25s\n",
      "         7           0.1138           0.0018           17.82s\n",
      "         8           0.1101           0.0020           17.52s\n",
      "         9           0.1109           0.0017           17.16s\n",
      "        10           0.1091           0.0005           16.88s\n",
      "        20           0.1027           0.0004           15.08s\n",
      "        30           0.1024           0.0003           14.34s\n",
      "        40           0.0990           0.0002           13.31s\n",
      "        50           0.0973           0.0002           12.25s\n",
      "        60           0.0964           0.0000           11.24s\n",
      "        70           0.0948           0.0001           10.26s\n",
      "        80           0.0929           0.0000            9.28s\n",
      "        90           0.0937           0.0000            8.34s\n",
      "       100           0.0936           0.0000            7.40s\n",
      "GBDT_clf [max_depth = 2] is fitted\n",
      "time used 20 s\n",
      "      Iter       Train Loss      OOB Improve   Remaining Time \n",
      "         1           0.1240           0.0084           33.76s\n",
      "         2           0.1204           0.0037           29.39s\n",
      "         3           0.1150           0.0024           28.07s\n",
      "         4           0.1130           0.0024           26.97s\n",
      "         5           0.1127           0.0014           26.35s\n",
      "         6           0.1108           0.0016           25.57s\n",
      "         7           0.1090           0.0014           25.11s\n",
      "         8           0.1066           0.0011           24.75s\n",
      "         9           0.1064           0.0014           24.36s\n",
      "        10           0.1041           0.0008           24.21s\n",
      "        20           0.1004           0.0004           22.07s\n",
      "        30           0.0960           0.0002           20.43s\n",
      "        40           0.0944           0.0001           18.94s\n",
      "        50           0.0936           0.0001           17.53s\n",
      "        60           0.0929           0.0000           16.19s\n",
      "        70           0.0912           0.0001           14.77s\n",
      "        80           0.0890           0.0001           13.41s\n",
      "        90           0.0895           0.0000           12.05s\n",
      "       100           0.0895           0.0000           10.70s\n",
      "GBDT_clf [max_depth = 3] is fitted\n",
      "time used 28 s\n",
      "      Iter       Train Loss      OOB Improve   Remaining Time \n",
      "         1           0.1189           0.0114           45.19s\n",
      "         2           0.1147           0.0039           38.35s\n",
      "         3           0.1122           0.0028           36.43s\n",
      "         4           0.1085           0.0023           35.01s\n",
      "         5           0.1070           0.0016           34.64s\n",
      "         6           0.1073           0.0013           33.91s\n",
      "         7           0.1057           0.0015           33.63s\n",
      "         8           0.1040           0.0009           33.33s\n",
      "         9           0.1038           0.0012           32.90s\n",
      "        10           0.1017           0.0008           32.49s\n",
      "        20           0.0966           0.0003           30.00s\n",
      "        30           0.0937           0.0002           28.10s\n",
      "        40           0.0909           0.0002           26.18s\n",
      "        50           0.0905           0.0001           24.24s\n",
      "        60           0.0877           0.0000           22.27s\n",
      "        70           0.0855           0.0000           20.35s\n",
      "        80           0.0845           0.0000           18.49s\n",
      "        90           0.0857           0.0000           16.61s\n",
      "       100           0.0830          -0.0000           14.68s\n",
      "GBDT_clf [max_depth = 4] is fitted\n",
      "time used 36 s\n",
      "      Iter       Train Loss      OOB Improve   Remaining Time \n",
      "         1           0.1169           0.0124           59.87s\n",
      "         2           0.1127           0.0040           55.13s\n",
      "         3           0.1104           0.0027           51.92s\n",
      "         4           0.1073           0.0023           50.12s\n",
      "         5           0.1067           0.0022           48.90s\n",
      "         6           0.1047           0.0015           47.49s\n",
      "         7           0.1018           0.0015           46.72s\n",
      "         8           0.1024           0.0012           46.30s\n",
      "         9           0.1000           0.0010           45.60s\n",
      "        10           0.0992           0.0011           45.39s\n",
      "        20           0.0915           0.0005           41.82s\n",
      "        30           0.0912           0.0002           38.96s\n",
      "        40           0.0854           0.0001           36.29s\n",
      "        50           0.0846           0.0001           33.53s\n",
      "        60           0.0821           0.0000           30.84s\n",
      "        70           0.0819          -0.0000            7.91m\n",
      "        80           0.0832           0.0000            6.35m\n",
      "        90           0.0811           0.0000            5.18m\n",
      "       100           0.0822          -0.0000            4.25m\n",
      "GBDT_clf [max_depth = 5] is fitted\n",
      "time used 7873 s\n",
      "      Iter       Train Loss      OOB Improve   Remaining Time \n",
      "         1           0.1141           0.0142            1.41m\n",
      "         2           0.1127           0.0032            1.21m\n",
      "         3           0.1079           0.0026            1.17m\n",
      "         4           0.1051           0.0023            1.16m\n",
      "         5           0.1040           0.0018            1.14m\n",
      "         6           0.1006           0.0014            1.10m\n",
      "         7           0.1003           0.0015            1.10m\n",
      "         8           0.0988           0.0012            1.12m\n",
      "         9           0.0969           0.0011            1.14m\n",
      "        10           0.0964           0.0008            1.14m\n",
      "        20           0.0891           0.0004            1.04m\n",
      "        30           0.0848           0.0002           57.95s\n",
      "        40           0.0820           0.0001           53.16s\n",
      "        50           0.0795           0.0001           48.90s\n",
      "        60           0.0778           0.0000           44.42s\n",
      "        70           0.0758           0.0000           40.33s\n",
      "        80           0.0753           0.0000           36.31s\n",
      "        90           0.0752          -0.0000           32.30s\n",
      "       100           0.0736          -0.0000           28.67s\n",
      "GBDT_clf [max_depth = 6] is fitted\n",
      "time used 68 s\n",
      "      Iter       Train Loss      OOB Improve   Remaining Time \n",
      "         1           0.1145           0.0130            1.54m\n",
      "         2           0.1092           0.0041            1.56m\n",
      "         3           0.1068           0.0026            1.54m\n",
      "         4           0.1060           0.0019            1.51m\n",
      "         5           0.1014           0.0019            1.53m\n",
      "         6           0.0991           0.0014            1.47m\n",
      "         7           0.0986           0.0015            1.47m\n",
      "         8           0.0964           0.0013            1.47m\n",
      "         9           0.0943           0.0012            1.47m\n",
      "        10           0.0948           0.0010            1.49m\n",
      "        20           0.0848           0.0003            1.39m\n",
      "        30           0.0791           0.0002            1.29m\n",
      "        40           0.0766           0.0001            1.20m\n",
      "        50           0.0750           0.0000            1.10m\n",
      "        60           0.0712           0.0000           59.99s\n",
      "        70           0.0700          -0.0000           53.65s\n",
      "        80           0.0692           0.0000           47.57s\n",
      "        90           0.0676           0.0000           41.78s\n",
      "       100           0.0668           0.0000           36.68s\n",
      "GBDT_clf [max_depth = 7] is fitted\n",
      "time used 84 s\n",
      "      Iter       Train Loss      OOB Improve   Remaining Time \n",
      "         1           0.1133           0.0137            2.62m\n",
      "         2           0.1085           0.0036            2.45m\n",
      "         3           0.1041           0.0032            2.36m\n",
      "         4           0.1014           0.0022            2.25m\n"
     ]
    },
    {
     "name": "stdout",
     "output_type": "stream",
     "text": [
      "         5           0.0991           0.0019            2.18m\n",
      "         6           0.0966           0.0015            2.25m\n",
      "         7           0.0943           0.0011            2.27m\n",
      "         8           0.0918           0.0013            2.24m\n",
      "         9           0.0911           0.0011            2.23m\n",
      "        10           0.0897           0.0011            2.22m\n",
      "        20           0.0787           0.0002            2.03m\n",
      "        30           0.0731           0.0002            1.85m\n",
      "        40           0.0690           0.0001            1.72m\n",
      "        50           0.0667           0.0001            1.56m\n",
      "        60           0.0644           0.0000            1.41m\n",
      "        70           0.0610          -0.0000            1.26m\n",
      "        80           0.0598           0.0000            1.13m\n",
      "        90           0.0593           0.0000           59.04s\n",
      "       100           0.0577          -0.0000           52.49s\n",
      "GBDT_clf [max_depth = 8] is fitted\n",
      "time used 114 s\n",
      "      Iter       Train Loss      OOB Improve   Remaining Time \n",
      "         1           0.1105           0.0155            3.01m\n",
      "         2           0.1050           0.0039            2.91m\n",
      "         3           0.1005           0.0029            2.85m\n",
      "         4           0.0989           0.0024            2.77m\n",
      "         5           0.0966           0.0019            2.76m\n",
      "         6           0.0921           0.0016            2.74m\n",
      "         7           0.0907           0.0012            2.69m\n",
      "         8           0.0898           0.0012            2.73m\n",
      "         9           0.0865           0.0010            2.77m\n",
      "        10           0.0866           0.0010            2.83m\n",
      "        20           0.0747           0.0003            2.68m\n",
      "        30           0.0684           0.0002            2.41m\n",
      "        40           0.0628           0.0001            2.23m\n",
      "        50           0.0587           0.0000            2.05m\n",
      "        60           0.0563           0.0000            1.87m\n",
      "        70           0.0535          -0.0000            1.67m\n",
      "        80           0.0529           0.0000            1.47m\n",
      "        90           0.0506          -0.0000            1.31m\n",
      "       100           0.0505           0.0000            1.14m\n",
      "GBDT_clf [max_depth = 9] is fitted\n",
      "time used 148 s\n",
      "      Iter       Train Loss      OOB Improve   Remaining Time \n",
      "         1           0.1076           0.0145            3.66m\n",
      "         2           0.1050           0.0029            3.56m\n",
      "         3           0.1007           0.0026            4.02m\n",
      "         4           0.0949           0.0020            4.08m\n",
      "         5           0.0914           0.0018            4.01m\n",
      "         6           0.0918           0.0014            3.85m\n",
      "         7           0.0854           0.0014            3.90m\n",
      "         8           0.0867           0.0011            3.77m\n",
      "         9           0.0845           0.0008            3.74m\n",
      "        10           0.0816           0.0009            3.64m\n",
      "        20           0.0674           0.0003            3.41m\n",
      "        30           0.0603           0.0001            3.16m\n",
      "        40           0.0547           0.0000            2.90m\n",
      "        50           0.0511           0.0000            2.68m\n",
      "        60           0.0477          -0.0000            2.44m\n",
      "        70           0.0456          -0.0000            2.20m\n",
      "        80           0.0431          -0.0000            1.96m\n",
      "        90           0.0414          -0.0000            1.73m\n",
      "       100           0.0398          -0.0000            1.51m\n",
      "GBDT_clf [max_depth = 10] is fitted\n",
      "time used 178 s\n",
      "      Iter       Train Loss      OOB Improve   Remaining Time \n",
      "         1           0.1060           0.0146            5.15m\n",
      "         2           0.1014           0.0027            5.86m\n",
      "         3           0.0955           0.0024            5.68m\n",
      "         4           0.0899           0.0024            5.85m\n",
      "         5           0.0871           0.0016            5.87m\n",
      "         6           0.0835           0.0015            5.93m\n",
      "         7           0.0811           0.0011            5.99m\n",
      "         8           0.0795           0.0011            5.98m\n",
      "         9           0.0779           0.0008            5.98m\n",
      "        10           0.0763           0.0009            6.09m\n",
      "        20           0.0595           0.0003            6.81m\n",
      "        30           0.0500           0.0001            7.07m\n",
      "        40           0.0431           0.0000            6.92m\n",
      "        50           0.0388           0.0000            6.57m\n",
      "        60           0.0341          -0.0000            6.12m\n",
      "        70           0.0313          -0.0000            5.62m\n",
      "        80           0.0295           0.0000            4.92m\n",
      "        90           0.0270           0.0000            4.20m\n",
      "       100           0.0249          -0.0000            3.57m\n",
      "GBDT_clf [max_depth = 12] is fitted\n",
      "time used 301 s\n",
      "      Iter       Train Loss      OOB Improve   Remaining Time \n",
      "         1           0.1037           0.0161            8.98m\n",
      "         2           0.0973           0.0030            8.79m\n",
      "         3           0.0919           0.0024           10.04m\n",
      "         4           0.0871           0.0021            9.72m\n",
      "         5           0.0834           0.0015            9.32m\n",
      "         6           0.0793           0.0014            9.59m\n",
      "         7           0.0774           0.0009            9.60m\n",
      "         8           0.0731           0.0011            9.81m\n",
      "         9           0.0708           0.0010            9.63m\n",
      "        10           0.0691           0.0007            9.44m\n",
      "        20           0.0506           0.0002            9.16m\n",
      "        30           0.0394           0.0001            8.93m\n",
      "        40           0.0318           0.0001            8.58m\n",
      "        50           0.0258          -0.0000            7.91m\n",
      "        60           0.0209           0.0000            7.25m\n",
      "        70           0.0183          -0.0000            6.51m\n",
      "        80           0.0151          -0.0000            5.84m\n",
      "GBDT_clf [max_depth = 15] is fitted\n",
      "time used 306 s\n",
      "      Iter       Train Loss      OOB Improve   Remaining Time \n",
      "         1           0.1010           0.0153            9.77m\n",
      "         2           0.0960           0.0031           13.41m\n",
      "         3           0.0880           0.0025           14.09m\n",
      "         4           0.0825           0.0021           15.42m\n",
      "         5           0.0781           0.0015           16.23m\n",
      "         6           0.0735           0.0012           16.81m\n",
      "         7           0.0701           0.0010           17.07m\n",
      "         8           0.0651           0.0011           17.06m\n",
      "         9           0.0619           0.0009           17.13m\n",
      "        10           0.0594           0.0008           17.75m\n",
      "        20           0.0403           0.0003           17.17m\n",
      "        30           0.0292           0.0001           16.52m\n",
      "        40           0.0218           0.0001           15.55m\n",
      "        50           0.0166          -0.0000           14.38m\n",
      "        60           0.0132          -0.0000           13.38m\n",
      "        70           0.0105          -0.0000           12.14m\n",
      "GBDT_clf [max_depth = 20] is fitted\n",
      "time used 474 s\n"
     ]
    },
    {
     "data": {
      "image/png": "[encoded data removed]",
      "text/plain": [
       "<Figure size 432x288 with 1 Axes>"
      ]
     },
     "metadata": {
      "needs_background": "light"
     },
     "output_type": "display_data"
    }
   ],
   "source": [
    "# (3.1) selection for best max_depth of GBDT\n",
    "# training and validating\n",
    "valid_X, valid_y, train_X, train_y = valid_train_set_construct(0.1, 80)\n",
    "\n",
    "max_depths = []\n",
    "f1_scores = []\n",
    "for md in [2,3,4,5,6,7,8,9,10,12,15,20]:\n",
    "    t1 = time.time()\n",
    "    # generation of training and valid set\n",
    "    \n",
    "    # generation of GBDT model and fit\n",
    "    modle_gbdt = GradientBoostingClassifier(max_depth=md, \n",
    "                                                              min_samples_leaf=10, \n",
    "                                                              learning_rate=0.05, \n",
    "                                                              n_estimators=180,  \n",
    "                                                              subsample=0.8, \n",
    "                                                              max_features=\"sqrt\",\n",
    "                                                              verbose=True,\n",
    "                                                              n_iter_no_change=50,\n",
    "                                                              tol=1e-4)\n",
    "    modle_gbdt.fit(train_X, train_y)\n",
    "    \n",
    "    # validation and evaluation\n",
    "    valid_y_pred = modle_gbdt.predict(valid_X)\n",
    "    f1_scores.append(metrics.f1_score(valid_y, valid_y_pred))\n",
    "    max_depths.append(md)\n",
    "    print('GBDT_clf [max_depth = %d] is fitted' % md)\n",
    "    \n",
    "    t2 = time.time() \n",
    "    print('time used %d s' % (t2-t1))\n",
    "   \n",
    "# plot the result\n",
    "f1 = plt.figure(1)\n",
    "plt.plot(max_depths, f1_scores, label=\"np=60,lr=0.05,nt=150,sub0.8,sqrt\")\n",
    "plt.xlabel('max_depths')\n",
    "plt.ylabel('f1_score')\n",
    "plt.title('f1_score as function of GBDT max_depths')\n",
    "plt.legend(loc=4)\n",
    "plt.grid(True, linewidth=0.3)\n",
    "plt.show()"
   ]
  },
  {
   "cell_type": "code",
   "execution_count": null,
   "metadata": {},
   "outputs": [],
   "source": []
  },
  {
   "cell_type": "code",
   "execution_count": null,
   "metadata": {},
   "outputs": [],
   "source": []
  },
  {
   "cell_type": "code",
   "execution_count": null,
   "metadata": {},
   "outputs": [],
   "source": []
  },
  {
   "cell_type": "code",
   "execution_count": null,
   "metadata": {},
   "outputs": [],
   "source": []
  },
  {
   "cell_type": "code",
   "execution_count": null,
   "metadata": {},
   "outputs": [],
   "source": []
  },
  {
   "cell_type": "code",
   "execution_count": null,
   "metadata": {},
   "outputs": [],
   "source": []
  },
  {
   "cell_type": "code",
   "execution_count": 52,
   "metadata": {},
   "outputs": [],
   "source": [
    "a = pd.DataFrame(valid_y)"
   ]
  },
  {
   "cell_type": "code",
   "execution_count": 53,
   "metadata": {},
   "outputs": [
    {
     "data": {
      "text/plain": [
       "(321, 1)"
      ]
     },
     "execution_count": 53,
     "metadata": {},
     "output_type": "execute_result"
    },
    {
     "data": {
      "text/plain": [
       "(321, 1)"
      ]
     },
     "execution_count": 53,
     "metadata": {},
     "output_type": "execute_result"
    }
   ],
   "source": [
    "a.shape"
   ]
  },
  {
   "cell_type": "code",
   "execution_count": 56,
   "metadata": {},
   "outputs": [
    {
     "data": {
      "text/plain": [
       "(156, 1)"
      ]
     },
     "execution_count": 56,
     "metadata": {},
     "output_type": "execute_result"
    },
    {
     "data": {
      "text/plain": [
       "(156, 1)"
      ]
     },
     "execution_count": 56,
     "metadata": {},
     "output_type": "execute_result"
    }
   ],
   "source": [
    "b =  a[a.label==0]\n",
    "b.shape"
   ]
  },
  {
   "cell_type": "code",
   "execution_count": 57,
   "metadata": {},
   "outputs": [
    {
     "data": {
      "text/plain": [
       "(165, 1)"
      ]
     },
     "execution_count": 57,
     "metadata": {},
     "output_type": "execute_result"
    },
    {
     "data": {
      "text/plain": [
       "(165, 1)"
      ]
     },
     "execution_count": 57,
     "metadata": {},
     "output_type": "execute_result"
    }
   ],
   "source": [
    "b =  a[a.label==1]\n",
    "b.shape"
   ]
  },
  {
   "cell_type": "code",
   "execution_count": 49,
   "metadata": {},
   "outputs": [
    {
     "data": {
      "text/plain": [
       "(2619, 1)"
      ]
     },
     "execution_count": 49,
     "metadata": {},
     "output_type": "execute_result"
    },
    {
     "data": {
      "text/plain": [
       "(2619, 1)"
      ]
     },
     "execution_count": 49,
     "metadata": {},
     "output_type": "execute_result"
    }
   ],
   "source": [
    "c = pd.DataFrame(train_y)\n",
    "c.shape"
   ]
  },
  {
   "cell_type": "code",
   "execution_count": 50,
   "metadata": {},
   "outputs": [
    {
     "data": {
      "text/plain": [
       "(1346, 1)"
      ]
     },
     "execution_count": 50,
     "metadata": {},
     "output_type": "execute_result"
    },
    {
     "data": {
      "text/plain": [
       "(1346, 1)"
      ]
     },
     "execution_count": 50,
     "metadata": {},
     "output_type": "execute_result"
    }
   ],
   "source": [
    "d = c[c.label==0]\n",
    "d.shape"
   ]
  },
  {
   "cell_type": "code",
   "execution_count": 51,
   "metadata": {},
   "outputs": [
    {
     "data": {
      "text/plain": [
       "(1273, 1)"
      ]
     },
     "execution_count": 51,
     "metadata": {},
     "output_type": "execute_result"
    },
    {
     "data": {
      "text/plain": [
       "(1273, 1)"
      ]
     },
     "execution_count": 51,
     "metadata": {},
     "output_type": "execute_result"
    }
   ],
   "source": [
    "d = c[c.label==1]\n",
    "d.shape"
   ]
  },
  {
   "cell_type": "code",
   "execution_count": 5,
   "metadata": {},
   "outputs": [],
   "source": [
    " msk_1 = np.random.rand(100) < 0.5"
   ]
  },
  {
   "cell_type": "code",
   "execution_count": 6,
   "metadata": {},
   "outputs": [
    {
     "data": {
      "text/plain": [
       "array([ True, False, False, False,  True, False,  True,  True, False,\n",
       "       False,  True, False, False,  True, False, False, False, False,\n",
       "        True, False, False,  True, False, False, False, False, False,\n",
       "       False,  True, False,  True, False,  True,  True, False, False,\n",
       "        True,  True,  True, False,  True, False,  True,  True, False,\n",
       "        True, False,  True, False, False, False, False,  True,  True,\n",
       "       False,  True,  True,  True,  True, False, False,  True,  True,\n",
       "       False,  True, False,  True, False,  True, False,  True,  True,\n",
       "       False, False,  True,  True,  True, False, False, False,  True,\n",
       "        True, False,  True,  True,  True, False,  True, False,  True,\n",
       "        True, False, False,  True,  True, False, False,  True,  True,\n",
       "       False])"
      ]
     },
     "execution_count": 6,
     "metadata": {},
     "output_type": "execute_result"
    }
   ],
   "source": [
    "msk_1"
   ]
  },
  {
   "cell_type": "code",
   "execution_count": null,
   "metadata": {},
   "outputs": [],
   "source": []
  }
 ],
 "metadata": {
  "kernelspec": {
   "display_name": "Python 3",
   "language": "python",
   "name": "python3"
  },
  "language_info": {
   "codemirror_mode": {
    "name": "ipython",
    "version": 3
   },
   "file_extension": ".py",
   "mimetype": "text/x-python",
   "name": "python",
   "nbconvert_exporter": "python",
   "pygments_lexer": "ipython3",
   "version": "3.7.1"
  }
 },
 "nbformat": 4,
 "nbformat_minor": 2
}
