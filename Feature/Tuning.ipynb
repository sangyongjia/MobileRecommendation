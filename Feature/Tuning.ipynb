{
 "cells": [
  {
   "cell_type": "code",
   "execution_count": 2,
   "metadata": {},
   "outputs": [],
   "source": [
    "from sklearn.ensemble import GradientBoostingClassifier\n",
    "import pandas as pd\n",
    "import numpy as np\n",
    "from sklearn.ensemble import GradientBoostingClassifier\n",
    "from sklearn import metrics\n",
    "import matplotlib.pyplot as plt\n",
    "import seaborn as sns\n",
    "import time"
   ]
  },
  {
   "cell_type": "code",
   "execution_count": null,
   "metadata": {},
   "outputs": [],
   "source": [
    "def valid_train_set_construct()"
   ]
  },
  {
   "cell_type": "code",
   "execution_count": null,
   "metadata": {},
   "outputs": [],
   "source": [
    "\n",
    "########## (1) selection for best N/P ratio of subsample\n",
    "# generation of gbdt model\n",
    "gbdt_clf = GradientBoostingClassifier(learning_rate=0.05, \n",
    "                                      n_estimators=200, \n",
    "                                      max_depth=7, \n",
    "                                      subsample=0.8,\n",
    "                                      max_features=\"sqrt\", \n",
    "                                      verbose=True)\n",
    "    \n",
    "f1_scores = []\n",
    "np_ratios = []\n",
    "for np_ratio in [1,5,10,15,20,25,30,35,40,45,50,60,70,80,90,100,120,150,200,300]:\n",
    "    t1 = time.time()\n",
    "    # generation of training and valid set\n",
    "    valid_X, valid_y, train_X, train_y = valid_train_set_construct(valid_ratio = 0.2,\n",
    "                                                                   valid_sub_ratio = 1, \n",
    "                                                                   train_np_ratio = np_ratio,\n",
    "                                                                   train_sub_ratio = 1)\n",
    "    \n",
    "    gbdt_clf.fit(train_X, train_y)\n",
    "    \n",
    "    # validation and evaluation\n",
    "    valid_y_pred = gbdt_clf.predict(valid_X)\n",
    "    f1_scores.append(metrics.f1_score(valid_y, valid_y_pred))\n",
    "    np_ratios.append(np_ratio)\n",
    "    \n",
    "    print('gbdt_clf [NP ratio = %d] is fitted' % np_ratio)\n",
    "    t2 = time.time() \n",
    "    print('time used %d s' % (t2-t1))\n",
    "    \n",
    "# plot the result\n",
    "f1 = plt.figure(1)\n",
    "plt.plot(np_ratios, f1_scores, label=\"lr=0.05,nt=200,md=7,sub=0.8,sqrt\")\n",
    "plt.xlabel('NP ratio')\n",
    "plt.ylabel('f1_score')\n",
    "plt.title('f1_score as function of NP ratio - GBDT')\n",
    "plt.legend(loc=4)\n",
    "plt.grid(True, linewidth=0.5)\n",
    "plt.show()"
   ]
  },
  {
   "cell_type": "code",
   "execution_count": 5,
   "metadata": {},
   "outputs": [],
   "source": [
    " msk_1 = np.random.rand(100) < 0.5"
   ]
  },
  {
   "cell_type": "code",
   "execution_count": 6,
   "metadata": {},
   "outputs": [
    {
     "data": {
      "text/plain": [
       "array([ True, False, False, False,  True, False,  True,  True, False,\n",
       "       False,  True, False, False,  True, False, False, False, False,\n",
       "        True, False, False,  True, False, False, False, False, False,\n",
       "       False,  True, False,  True, False,  True,  True, False, False,\n",
       "        True,  True,  True, False,  True, False,  True,  True, False,\n",
       "        True, False,  True, False, False, False, False,  True,  True,\n",
       "       False,  True,  True,  True,  True, False, False,  True,  True,\n",
       "       False,  True, False,  True, False,  True, False,  True,  True,\n",
       "       False, False,  True,  True,  True, False, False, False,  True,\n",
       "        True, False,  True,  True,  True, False,  True, False,  True,\n",
       "        True, False, False,  True,  True, False, False,  True,  True,\n",
       "       False])"
      ]
     },
     "execution_count": 6,
     "metadata": {},
     "output_type": "execute_result"
    }
   ],
   "source": [
    "msk_1"
   ]
  },
  {
   "cell_type": "code",
   "execution_count": null,
   "metadata": {},
   "outputs": [],
   "source": []
  }
 ],
 "metadata": {
  "kernelspec": {
   "display_name": "Python 3",
   "language": "python",
   "name": "python3"
  },
  "language_info": {
   "codemirror_mode": {
    "name": "ipython",
    "version": 3
   },
   "file_extension": ".py",
   "mimetype": "text/x-python",
   "name": "python",
   "nbconvert_exporter": "python",
   "pygments_lexer": "ipython3",
   "version": "3.7.1"
  }
 },
 "nbformat": 4,
 "nbformat_minor": 2
}
