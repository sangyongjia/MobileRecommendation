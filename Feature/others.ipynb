{
 "cells": [
  {
   "cell_type": "code",
   "execution_count": null,
   "metadata": {},
   "outputs": [],
   "source": [
    "#import xgboost as xgb\n",
    "#Data = pd.read_csv(\"../DataSet/drop1112_sub_item.csv\")\n",
    "#part_data = True #决定使用的数据是全集的用户行为数据还会商品子集的用户行为数据\n",
    "part_data = False\n",
    "if(part_data):\n",
    "    Data = pd.read_csv(\"../DataSet/drop_null_sub_item.csv\")\n",
    "    Data['daystime'] = Data['days'].map(lambda x: time.strptime(x, \"%Y-%m-%d\")).map(lambda x: datetime.datetime(*x[:6]))\n",
    "else:\n",
    "    Data = pd.read_csv('../DataSet/tianchi_fresh_comp_train_user.csv')\n",
    "    Data['days'] = Data['time'].map(lambda x:x.split(' ')[0])\n",
    "    Data['daystime'] = Data['days'].map(lambda x: time.strptime(x, \"%Y-%m-%d\")).map(lambda x: datetime.datetime(*x[:6]))\n",
    "item_table = pd.read_csv('../DataSet/tianchi_fresh_comp_train_item.csv')"
   ]
  },
  {
   "cell_type": "code",
   "execution_count": null,
   "metadata": {},
   "outputs": [],
   "source": [
    "#main 函数的中的内容，暂时移出来\n",
    "'''\n",
    "    #rule_part = True\n",
    "    rule_part = False\n",
    "    if(rule_part):\n",
    "        data1 = rule1(Data)\n",
    "        data1 = data1[['user_id','item_id']]\n",
    "        data1 = data1.drop_duplicates(['user_id', 'item_id'])\n",
    "        data1.to_csv('../DataSet/rule1.csv',index=None)\n",
    "        #print(data1)\n",
    "    \n",
    "        data2 = rule2(Data)\n",
    "        data2 = data2[['user_id','item_id']]\n",
    "        data2 = data2.drop_duplicates(['user_id', 'item_id'])\n",
    "        data2.to_csv('../DataSet/rule2.csv',index=None)\n",
    "        #print(data2)\n",
    "    \n",
    "        data3 = rule3(Data)\n",
    "        data3 = data3[['user_id','item_id']]\n",
    "        data3 = data3.drop_duplicates(['user_id', 'item_id'])\n",
    "        data3.to_csv('../DataSet/rule3.csv',index=None)\n",
    "        #print(data3)\n",
    "  '''"
   ]
  },
  {
   "cell_type": "code",
   "execution_count": null,
   "metadata": {},
   "outputs": [],
   "source": [
    "#rule part\n",
    "def rule1(data,label_day):\n",
    "    data1 = data[data.item_id.isin(list(item_table.item_id))]\n",
    "    data1 = data1[data1['daystime'] == label_day]\n",
    "    data1 = data1[data1['behavior_type'] == 3]\n",
    "    data1.drop_duplicates(['user_id', 'item_id'],inplace=True)\n",
    "    return data1\n",
    "def rule2(data):  # rule2 = rule1 + rule2\n",
    "    data1 = rule1(data)\n",
    "    data2 = data[data['days'] == '2014-12-18']\n",
    "    data2 = data2[data2['behavior_type'] == 4]\n",
    "    data2 = data1[~(data1.user_id.isin(list(data2.user_id)))]\n",
    "    #data2 = data1 - data2 \n",
    "    return data2\n",
    "def rule3(data):\n",
    "    data1 = rule1(data)\n",
    "    data3 = data[data['days'] == '2014-12-18']\n",
    "    data3 = data3[data3['behavior_type'] == 4]\n",
    "    #data3 = data1[~(data1[['user_id','item_id']].isin(data3[['user_id','item_id']]))]\n",
    "    result = pd.merge(data1, data3, on=['user_id','item_id'], suffixes=['_l', '_r'])\n",
    "    result['key'] = result['user_id'] + result['item_id']\n",
    "    data1['key'] = data1['user_id'] + data1['item_id']\n",
    "    data3 = data1[~(data1.key.isin(list(result.key)))]\n",
    "    return data3\n",
    "def rule4(data):\n",
    "    return data4"
   ]
  },
  {
   "cell_type": "code",
   "execution_count": null,
   "metadata": {},
   "outputs": [],
   "source": [
    "item_table = pd.read_csv('../DataSet/tianchi_fresh_comp_train_item.csv')\n",
    "item_table.shape"
   ]
  },
  {
   "cell_type": "code",
   "execution_count": null,
   "metadata": {},
   "outputs": [],
   "source": [
    "#reference data set 只会是2014年12月18日这天的数据。    \n",
    "LabelDay_12_18 = datetime.datetime(2014,12,18,0,0,0)\n",
    "ReferenceData = get_reference_set(copy.deepcopy(Data),LabelDay_12_18)\n",
    "ReferenceData.to_csv(\"../DataSet/reference_data_set_12_18.csv\")"
   ]
  },
  {
   "cell_type": "code",
   "execution_count": null,
   "metadata": {},
   "outputs": [],
   "source": [
    "ReferenceData = pd.read_csv(\"../DataSet/reference_data_set_12_18.csv\")"
   ]
  }
 ],
 "metadata": {
  "kernelspec": {
   "display_name": "Python 3",
   "language": "python",
   "name": "python3"
  },
  "language_info": {
   "codemirror_mode": {
    "name": "ipython",
    "version": 3
   },
   "file_extension": ".py",
   "mimetype": "text/x-python",
   "name": "python",
   "nbconvert_exporter": "python",
   "pygments_lexer": "ipython3",
   "version": "3.7.1"
  }
 },
 "nbformat": 4,
 "nbformat_minor": 2
}
