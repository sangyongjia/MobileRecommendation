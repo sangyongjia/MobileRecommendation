{
 "cells": [
  {
   "cell_type": "code",
   "execution_count": 1,
   "metadata": {},
   "outputs": [],
   "source": [
    "import datetime\n",
    "import pandas as pd\n",
    "import copy\n",
    "import numpy as np\n",
    "\n",
    "def devide_data(user_behavior_data_path, start_day, end_day,flag=True):\n",
    "    batch = 0\n",
    "    second_end_day = (end_day - datetime.timedelta(days=1))    \n",
    "    start_day_str = str(start_day.date())\n",
    "    end_day_str = str(end_day.date())\n",
    "    second_end_day_str = str(second_end_day.date())\n",
    "    \n",
    "    name = start_day_str + \"to\" + second_end_day_str\n",
    "    #out put file name\n",
    "    part_data_file_name = \"../DataSet/\"+\"part_data\"+name+\".csv\"\n",
    "    part_data_label_file_name =  \"../DataSet/\"+\"part_data\"+end_day_str+\".csv\"   #end day\n",
    "    part_data_label_filename =  \"../DataSet/\"+\"part_data_uicl\"+end_day_str+\".csv\"\n",
    "    print(\"output files name,as follows:\\n\",part_data_file_name,\"\\n\", part_data_label_file_name,\"\\n\", part_data_label_filename)\n",
    "    #\n",
    "    start_time = datetime.datetime.now().strftime('%Y-%m-%d %H:%M:%S')\n",
    "    print('get uic label data from %s  to %s start time:'%(start_day_str,end_day_str), start_time)\n",
    "    \n",
    "    dateparse = lambda dates: pd.datetime.strptime(dates, '%Y-%m-%d %H')\n",
    "    \n",
    "    for df in pd.read_csv(open(user_behavior_data_path, 'r'), \n",
    "                      parse_dates=['time'], \n",
    "                      index_col = ['time'], \n",
    "                      date_parser = dateparse,\n",
    "                      chunksize = 10000000):  # operation on chunk as the data file is too large\n",
    "        try:\n",
    "            part_data = df[start_day_str:second_end_day_str]\n",
    "            part_data_label = df[end_day_str]\n",
    "            #print(\"sangyongjia\",df.head(5))\n",
    "            part_data.to_csv(part_data_file_name,  \n",
    "                             columns=['user_id','item_id','behavior_type','item_category'],\n",
    "                             header=False, mode='a')        \n",
    "            part_data_label.to_csv(part_data_label_file_name,\n",
    "                             columns=['user_id','item_id','behavior_type','item_category'],\n",
    "                             header=False, mode='a')\n",
    "\n",
    "            batch += 1\n",
    "            print('chunk %d done.' %batch) \n",
    "\n",
    "        except StopIteration:\n",
    "            print(\"divide the data set finish.\")\n",
    "            break \n",
    "    #get uic+label data\n",
    "    if(flag):  #train data\n",
    "        data_file = open(part_data_file_name, 'r')    \n",
    "        try:\n",
    "            part_data = pd.read_csv(data_file, header=None, index_col=False)\n",
    "            #print(\"read nonbbnbe\",part_data)\n",
    "            part_data.columns = ['time','user_id','item_id','behavior_type','item_category']\n",
    "            #print(\"time\",part_data['time'])\n",
    "        finally:\n",
    "            data_file.close()\n",
    "        part_data_uic = part_data.drop_duplicates(['user_id', 'item_id', 'item_category'])[['user_id', 'item_id', 'item_category']]\n",
    "        #print(part_data)\n",
    "        data_file = open(part_data_label_file_name, 'r')\n",
    "        try:\n",
    "            part_data_label = pd.read_csv(data_file,header=None,index_col=False)    \n",
    "            part_data_label.columns = ['time','user_id','item_id','behavior_type','item_category']\n",
    "            #print(\"ddsadadsadadslabel3:\",part_data_label,\"\\n\")\n",
    "        finally:\n",
    "            data_file.close()\n",
    "\n",
    "        # uic + label \n",
    "        part_data_uic_label_1 = part_data_label[part_data_label['behavior_type'] == 4][['user_id','item_id','item_category']]\n",
    "        part_data_uic_label_1.drop_duplicates(['user_id','item_id','item_category'], 'last', inplace=True)\n",
    "        part_data_uic_label_1['label'] = 1\n",
    "        part_data_uic_label = pd.merge(part_data_uic, \n",
    "                                       part_data_uic_label_1,\n",
    "                                       on=['user_id','item_id','item_category'], \n",
    "                                       how='left').fillna(0).astype('int')\n",
    "        #print(part_data_uic)\n",
    "        #print(part_data_uic_label_1)\n",
    "        #print(part_data_uic_label)\n",
    "        part_data_uic_label.to_csv(part_data_label_filename, index=False)   \n",
    "        \n",
    "    else:   #predict data\n",
    "        data_file = open(part_data_file_name, 'r')    \n",
    "        try:\n",
    "            part_data = pd.read_csv(data_file, header=None, index_col=False)\n",
    "            part_data.columns = ['time','user_id','item_id','behavior_type','item_category']\n",
    "        finally:\n",
    "            data_file.close()\n",
    "        part_data_uic = part_data.drop_duplicates(['user_id', 'item_id', 'item_category'])[['user_id', 'item_id', 'item_category']]\n",
    "        part_data_uic.to_csv(part_data_label_filename, index=False)   \n",
    "    end_time = datetime.datetime.now().strftime('%Y-%m-%d %H:%M:%S')\n",
    "    print('end time:', end_time)\n",
    "    \"\"\"\n",
    "    start = datetime.datetime(2014,12,15,0,0,0)\n",
    "    end = datetime.datetime(2014,12,18,0,0,0)\n",
    "    devide_data(\"../DataSet/tianchi_fresh_comp_train_user.csv\",start,end)\n",
    "    \"\"\""
   ]
  },
  {
   "cell_type": "code",
   "execution_count": 1,
   "metadata": {},
   "outputs": [
    {
     "data": {
      "text/plain": [
       "datetime.datetime(2018, 9, 9, 9, 0)"
      ]
     },
     "execution_count": 1,
     "metadata": {},
     "output_type": "execute_result"
    }
   ],
   "source": [
    "import pandas as pd\n",
    "pd.datetime.strptime('2018-09-09 09', '%Y-%m-%d %H')"
   ]
  },
  {
   "cell_type": "code",
   "execution_count": null,
   "metadata": {},
   "outputs": [],
   "source": []
  }
 ],
 "metadata": {
  "kernelspec": {
   "display_name": "Python 3",
   "language": "python",
   "name": "python3"
  },
  "language_info": {
   "codemirror_mode": {
    "name": "ipython",
    "version": 3
   },
   "file_extension": ".py",
   "mimetype": "text/x-python",
   "name": "python",
   "nbconvert_exporter": "python",
   "pygments_lexer": "ipython3",
   "version": "3.7.1"
  }
 },
 "nbformat": 4,
 "nbformat_minor": 2
}
