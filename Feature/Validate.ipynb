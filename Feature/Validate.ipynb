{
 "cells": [
  {
   "cell_type": "code",
   "execution_count": null,
   "metadata": {},
   "outputs": [],
   "source": [
    "import pandas as pd"
   ]
  },
  {
   "cell_type": "code",
   "execution_count": 1,
   "metadata": {},
   "outputs": [],
   "source": [
    "def validate():   \n",
    "   # item_table = pd.read_csv('../DataSet/tianchi_fresh_comp_train_item.csv')     \n",
    "    reference_data_set_buy = pd.read_csv(\"../DataSet/reference_data_set_12_18.csv\")\n",
    "    predict_data_set_buy = pd.read_csv(\"../DataSet/tianchi_mobile_recommendation_predict.csv\")\n",
    "    #reference_data_set_buy = reference_data_set_buy[reference_data_set_buy.item_id.isin(list(item_table.item_id))]\n",
    "\n",
    "    right_res = predict_data_set_buy.merge(reference_data_set_buy,on=['item_id','user_id'])\n",
    "    #caculate P, R and F1  \n",
    "    R = right_res.shape[0]/reference_data_set_buy.shape[0]\n",
    "    P = right_res.shape[0]/predict_data_set_buy.shape[0]\n",
    "    F1 = 2*P*R/(P+R)\n",
    "    print('reference_data_set_buy:',reference_data_set_buy.shape[0])\n",
    "    #print('predict_data_set:',predict_data_set.shape[0])\n",
    "    print('predict_data_set_buy:',predict_data_set_buy.shape[0])\n",
    "    print('right_res:',right_res.shape[0])\n",
    "    print('P:',P,'\\n','R:',R,'\\n','F1:',F1)"
   ]
  },
  {
   "cell_type": "code",
   "execution_count": null,
   "metadata": {},
   "outputs": [],
   "source": []
  }
 ],
 "metadata": {
  "kernelspec": {
   "display_name": "Python 3",
   "language": "python",
   "name": "python3"
  },
  "language_info": {
   "codemirror_mode": {
    "name": "ipython",
    "version": 3
   },
   "file_extension": ".py",
   "mimetype": "text/x-python",
   "name": "python",
   "nbconvert_exporter": "python",
   "pygments_lexer": "ipython3",
   "version": "3.7.1"
  }
 },
 "nbformat": 4,
 "nbformat_minor": 2
}
