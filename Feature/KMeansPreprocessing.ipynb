{
 "cells": [
  {
   "cell_type": "code",
   "execution_count": 1,
   "metadata": {},
   "outputs": [],
   "source": [
    "import pandas as pd\n",
    "from sklearn import preprocessing\n",
    "from sklearn.cluster import MiniBatchKMeans\n",
    "import numpy as np\n",
    "import datetime\n",
    "#import pickle"
   ]
  },
  {
   "cell_type": "code",
   "execution_count": null,
   "metadata": {},
   "outputs": [],
   "source": [
    "def kmeans_preprocessing(start_day,end_day):\n",
    "    #input filename\n",
    "    start_day_str = str(start_day.date())\n",
    "    end_day_str = str(end_day.date())\n",
    "    train_data_filename = \"../DataSet/Feature/\"+\"part_data_uiclf\"+end_day_str+\".csv\"\n",
    "    \n",
    "    #output filename\n",
    "    output_filename = \"../DataSet/Kmeans/\"+\"part_data_uiclfk\"+end_day_str+\".csv\"\n",
    "    output_filename_uiclfc = \"../DataSet/Kmeans/\"+\"part_data_uiclfc\"+\".csv\"\n",
    "    train_data_file_name = \"../DataSet/Kmeans/\"+\"train_data_all\"+\".csv\"\n",
    "    \n",
    "    \n",
    "    start_time = datetime.datetime.now().strftime('%Y-%m-%d %H:%M:%S')\n",
    "    print('start to get the uiclfk data of  %s ,start time:'%(train_data_filename[26:36]), start_time)\n",
    "    \n",
    "    #for train_data_set in pd.read_csv(\"../DataSet/train_data_set_all.csv\", chunksize=15000): \n",
    "    train_data_set_sampe= pd.DataFrame()\n",
    "    train_data_set = pd.read_csv(train_data_filename)\n",
    "    print('train_data_set in KMeans',train_data_set.head(1))\n",
    "    train_data_set.drop(train_data_set.columns[[0,1,2]], axis=1,inplace=True)    # drop user_id,item_id,cateory_id\n",
    "    train_data_set_buy = train_data_set[train_data_set.label == 1]\n",
    "    train_data_set_not_buy = train_data_set[train_data_set.label == 0]\n",
    "    print('train_data_set_not_buy in KMeans',train_data_set_not_buy.head(1))\n",
    "    train_data_set_temp = train_data_set_not_buy.iloc[:,1:]                            # drop label \n",
    "    print(\"train set shape-buy:\",train_data_set_buy.shape)\n",
    "    print(\"train set shape-not buy:\",train_data_set_not_buy.shape)\n",
    "    print(\"N\\P ratio is:\",train_data_set_not_buy.shape[0]/train_data_set_buy.shape[0])\n",
    "    \n",
    "    print(\"start to standard scale\")\n",
    "    scaler = preprocessing.StandardScaler()\n",
    "    scaler.fit(train_data_set_temp.values)\n",
    "    train_data_set_temp_values = scaler.transform(train_data_set_temp.values)\n",
    "    print(\"start to k means algorthm\")\n",
    "    mbk = MiniBatchKMeans(init='k-means++', n_clusters=1000, batch_size=500, reassignment_ratio=10**-4)\n",
    "    mbk.fit(train_data_set_temp_values)\n",
    "    train_data_set_temp['class'] = mbk.labels_.astype('int')+1\n",
    "    train_data_set_buy['class'] = 0\n",
    "    train_data_set_buy = train_data_set_buy.iloc[:,1:]   #需要确认下舍弃掉的是不是‘label’\n",
    "    train_data_set_uiclfc = pd.concat([train_data_set_temp, train_data_set_buy])\n",
    "    train_data_set_uiclfc.to_csv(output_filename_uiclfc, header=False, mode='a', index=False)  #有 bug。\n",
    "    print('train_data_set_temp columns:\\n',train_data_set_temp.columns) \n",
    "    print('columns len ',len(train_data_set_temp.columns))\n",
    "    print('train_data_set_temp columns:\\n',train_data_set_buy.columns)\n",
    "    print('columns len ',len(train_data_set_buy.columns))\n",
    "    print(\"start to sample from negative example of train data\")\n",
    "    j=0\n",
    "    #print(train_data_set.head(5))\n",
    "    for i in range(1,1001,1):\n",
    "        j+=1\n",
    "        if(j==100):\n",
    "            print(i)\n",
    "            j=0\n",
    "        train_data_uic_label_0_i = train_data_set_temp[train_data_set_temp['class'] == i]\n",
    "        #print(train_data_uic_label_0_i.shape)\n",
    "        if(train_data_uic_label_0_i.shape[0]!=0):\n",
    "            train_data_uic_label_0_i = train_data_uic_label_0_i.sample(frac = 0.067)\n",
    "            train_data_set_sampe = pd.concat([train_data_set_sampe, train_data_uic_label_0_i])\n",
    "    print(\"sample finished\")        \n",
    "    #train_data_set_sampe['class'] = (train_data_set_sampe['class']<0).astype('int')\n",
    "    \n",
    "   \n",
    "    #train_data_set_buy['class'] = (train_data_set_buy['class']<1).astype('int')\n",
    "    print(\"train set shape-buy:\",train_data_set_buy.shape)\n",
    "    print(\"train set shape-not buy:\",train_data_set_sampe.shape)\n",
    "    print(\"after sample N\\P ratio is:\",train_data_set_sampe.shape[0]/train_data_set_buy.shape[0])\n",
    "    train_data_set_sampe = pd.concat([train_data_set_sampe,train_data_set_buy])\n",
    "    train_data_set_sampe['class'] = (train_data_set_sampe['class']>0).astype('int')    #这不是将正负样例都变成正样例了吗？ 没有问题！！！\n",
    "    train_data_set_sampe['class'] = (train_data_set_sampe['class']<1).astype('int')\n",
    "    train_data_set_sampe.rename(columns={\"class\":\"label\"},inplace=True)\n",
    "    print(train_data_set_sampe.shape)\n",
    "    print(train_data_set_sampe.columns)\n",
    "    train_data_set_sampe.to_csv(output_filename, index=False)\n",
    "    end_time = datetime.datetime.now().strftime('%Y-%m-%d %H:%M:%S')\n",
    "    print('end time of getting the uiclfk data of  %s ,end time:'%(train_data_filename[26:36]), end_time)\n",
    "    #将所有train data 放进同一个文件，为下一步训练模型做准备\n",
    "    train_data_set_sampe.to_csv(train_data_file_name, header=False, mode='a', index=False)  #有 bug。"
   ]
  },
  {
   "cell_type": "raw",
   "metadata": {},
   "source": [
    "#Unit Test As Follows:"
   ]
  },
  {
   "cell_type": "code",
   "execution_count": null,
   "metadata": {},
   "outputs": [],
   "source": [
    "#"
   ]
  }
 ],
 "metadata": {
  "kernelspec": {
   "display_name": "Python 3",
   "language": "python",
   "name": "python3"
  },
  "language_info": {
   "codemirror_mode": {
    "name": "ipython",
    "version": 3
   },
   "file_extension": ".py",
   "mimetype": "text/x-python",
   "name": "python",
   "nbconvert_exporter": "python",
   "pygments_lexer": "ipython3",
   "version": "3.7.1"
  }
 },
 "nbformat": 4,
 "nbformat_minor": 2
}
